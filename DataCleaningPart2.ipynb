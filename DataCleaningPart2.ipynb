{
  "nbformat": 4,
  "nbformat_minor": 0,
  "metadata": {
    "colab": {
      "name": "DataCleaningPart2.ipynb",
      "provenance": [],
      "collapsed_sections": []
    },
    "kernelspec": {
      "name": "python3",
      "display_name": "Python 3"
    }
  },
  "cells": [
    {
      "cell_type": "code",
      "metadata": {
        "id": "TuH-SBLiLKXa"
      },
      "source": [
        "# Import the libraries\n",
        "import numpy as np\n",
        "import pandas as pd\n",
        "from sklearn.preprocessing import OneHotEncoder \n",
        "from sklearn.compose import ColumnTransformer "
      ],
      "execution_count": null,
      "outputs": []
    },
    {
      "cell_type": "code",
      "metadata": {
        "id": "_S3sgl1fMMgE"
      },
      "source": [
        "# Normalization & Scaling Functions using Numpy & Pandas\n",
        "\n",
        "# Outlier Scaling using .quantile() Pandas methods\n",
        "def scale_outlier(df, column):\n",
        "    Q1 = df[column].quantile(0.25)\n",
        "    Q3 = df[column].quantile(0.75)\n",
        "    IQR = Q3 - Q1\n",
        "    min_bound = Q1 - 1.5*IQR\n",
        "    max_bound = Q3 + 1.5*IQR\n",
        "    df[column] = np.where(df[column] > max_bound, max_bound, df[column])\n",
        "    df[column] = np.where(df[column] < min_bound, min_bound, df[column])\n",
        "\n",
        "# Min-Max Scaling using .min() and .max() Pandas methods\n",
        "def min_max_scaling(df):    \n",
        "    df_norm = df.copy()\n",
        "    for column in df_norm.columns:\n",
        "        df_norm[column] = (df_norm[column] - df_norm[column].min()) / (df_norm[column].max() - df_norm[column].min())        \n",
        "    return df_norm"
      ],
      "execution_count": null,
      "outputs": []
    },
    {
      "cell_type": "code",
      "metadata": {
        "id": "G6PFmCh8MRrP"
      },
      "source": [
        "# Reading the dataset using Pandas\n",
        "df = pd.read_csv(\"Cleaned_data.csv\")"
      ],
      "execution_count": null,
      "outputs": []
    },
    {
      "cell_type": "code",
      "metadata": {
        "colab": {
          "base_uri": "https://localhost:8080/"
        },
        "id": "RQcMigDH5o_c",
        "outputId": "6feb54cc-d9c3-4e46-c9ca-7b82b68df872"
      },
      "source": [
        "df.shape"
      ],
      "execution_count": null,
      "outputs": [
        {
          "output_type": "execute_result",
          "data": {
            "text/plain": [
              "(55990, 34)"
            ]
          },
          "metadata": {
            "tags": []
          },
          "execution_count": 257
        }
      ]
    },
    {
      "cell_type": "code",
      "metadata": {
        "id": "pUZWk9cWPhTz"
      },
      "source": [
        "# One hot encoding\n",
        "# Convert BoRace, CoRace, BoGender, CoGender, Geog, BoCreditScore, CoBoCreditScore, PropType, BoEth, CoEth, SpcHsgGoals, AcqType, Bank, FedGuar, First, Self and NumBor  to One hot encoding\n",
        "newdf = pd.get_dummies(df, columns = ['BoRace', 'CoRace', 'BoGender', 'CoGender', 'Geog', 'BoCreditScor', 'CoBoCreditScor', 'PropType', 'BoEth', 'CoEth', 'SpcHsgGoals', 'AcqTyp', 'Bank', 'FedGuar', 'First', 'Self', 'NumBor'])"
      ],
      "execution_count": null,
      "outputs": []
    },
    {
      "cell_type": "code",
      "metadata": {
        "id": "A39xrqBAR9KZ"
      },
      "source": [
        "newdf"
      ],
      "execution_count": null,
      "outputs": []
    },
    {
      "cell_type": "code",
      "metadata": {
        "id": "3VOV39JkQ9h1"
      },
      "source": [
        "# Normalise\n",
        "scalecolumns = newdf[['BoAge', 'CoAge','MSA', 'MinPer', 'LocMedY',\t'Tractrat',\t'Income',\t'IncRat',\t'UPB',\t'LTV',\t'Term',\t'Rate',\t'Front',\t'Back',\t'PMI']]"
      ],
      "execution_count": null,
      "outputs": []
    },
    {
      "cell_type": "code",
      "metadata": {
        "id": "QNK01KKrWnU_"
      },
      "source": [
        "scalecolumns = min_max_scaling(scalecolumns)\n",
        "scalecolumns"
      ],
      "execution_count": null,
      "outputs": []
    },
    {
      "cell_type": "code",
      "metadata": {
        "colab": {
          "base_uri": "https://localhost:8080/"
        },
        "id": "DOpjZePpZGY8",
        "outputId": "2b4039f7-1dcc-4294-fb59-8c80f99d89ae"
      },
      "source": [
        "scalecolumns.shape"
      ],
      "execution_count": null,
      "outputs": [
        {
          "output_type": "execute_result",
          "data": {
            "text/plain": [
              "(55990, 15)"
            ]
          },
          "metadata": {
            "tags": []
          },
          "execution_count": 226
        }
      ]
    },
    {
      "cell_type": "code",
      "metadata": {
        "id": "jLTvpoPOVNLI"
      },
      "source": [
        "newdf = newdf.drop(['BoAge', 'CoAge','MSA', 'MinPer', 'LocMedY',\t'Tractrat',\t'Income',\t'IncRat',\t'UPB',\t'LTV',\t'Term',\t'Rate',\t'Front',\t'Back',\t'PMI'], axis = 1)\n",
        "# newdf"
      ],
      "execution_count": null,
      "outputs": []
    },
    {
      "cell_type": "code",
      "metadata": {
        "colab": {
          "base_uri": "https://localhost:8080/"
        },
        "id": "YoZgDMGkZLW1",
        "outputId": "0cccf60b-760b-424b-db41-6c80c6966059"
      },
      "source": [
        "newdf.shape"
      ],
      "execution_count": null,
      "outputs": [
        {
          "output_type": "execute_result",
          "data": {
            "text/plain": [
              "(55990, 79)"
            ]
          },
          "metadata": {
            "tags": []
          },
          "execution_count": 228
        }
      ]
    },
    {
      "cell_type": "code",
      "metadata": {
        "id": "U8xi_ZCyVOL1"
      },
      "source": [
        "mergecols = [newdf, scalecolumns]\n",
        "newdf = pd.concat(mergecols, axis=1)"
      ],
      "execution_count": null,
      "outputs": []
    },
    {
      "cell_type": "code",
      "metadata": {
        "id": "ZGnr1YVmsdWQ"
      },
      "source": [
        "newdf"
      ],
      "execution_count": null,
      "outputs": []
    },
    {
      "cell_type": "code",
      "metadata": {
        "id": "Mrl4o74E0onB"
      },
      "source": [
        "origcolumns = df[['BoRace', 'CoRace', 'BoGender', 'CoGender', 'Geog', 'BoCreditScor', 'CoBoCreditScor', 'PropType', 'BoEth', 'CoEth', 'SpcHsgGoals', 'AcqTyp', 'Bank', 'FedGuar', 'First', 'Self', 'NumBor']]\n",
        "\n",
        "mergecols = [newdf, origcolumns]\n",
        "newdf = pd.concat(mergecols, axis=1)"
      ],
      "execution_count": null,
      "outputs": []
    },
    {
      "cell_type": "code",
      "metadata": {
        "colab": {
          "base_uri": "https://localhost:8080/"
        },
        "id": "xHKPbShj1X9K",
        "outputId": "e6e10f8f-2f1f-412f-a2a5-579424068c8b"
      },
      "source": [
        "origcolumns.shape"
      ],
      "execution_count": null,
      "outputs": [
        {
          "output_type": "execute_result",
          "data": {
            "text/plain": [
              "(55990, 17)"
            ]
          },
          "metadata": {
            "tags": []
          },
          "execution_count": 232
        }
      ]
    },
    {
      "cell_type": "code",
      "metadata": {
        "id": "Yv13tXY002j_"
      },
      "source": [
        "newdf"
      ],
      "execution_count": null,
      "outputs": []
    },
    {
      "cell_type": "code",
      "metadata": {
        "id": "iQ8Emo9Isldt"
      },
      "source": [
        "# Drop one hot encoded columns that have values in less than 5% of total number of rows\n",
        "oheEncodedCols = ['BoRace_1',\t'BoRace_2',\t'BoRace_3',\t'BoRace_4',\t'BoRace_5',\t'BoRace_7',\t'CoRace_1',\t'CoRace_2',\t'CoRace_3',\t'CoRace_4',\t'CoRace_5',\t'CoRace_7',\t'CoRace_8',\t'BoGender_1',\t'BoGender_2',\t'BoGender_3',\t'CoGender_1',\t'CoGender_2',\t'CoGender_3',\t'CoGender_4', 'BoCreditScor_1',\t'BoCreditScor_2',\t'BoCreditScor_3',\t'BoCreditScor_4',\t'BoCreditScor_5',\t'BoCreditScor_9',\t'CoBoCreditScor_1',\t'CoBoCreditScor_2',\t'CoBoCreditScor_3',\t'CoBoCreditScor_4',\t'CoBoCreditScor_5',\t'CoBoCreditScor_9', 'BoEth_1',\t'BoEth_2',\t'BoEth_3',\t'CoEth_1',\t'CoEth_2',\t'CoEth_3',\t'CoEth_5', 'Geog_1',\t'Geog_2',\t'PropType_PT01',\t'PropType_PT02',\t'PropType_PT04',\t'PropType_PT06',\t'PropType_PT07',\t'PropType_PT09',\t'PropType_PT10',\t'PropType_PT11',\t'PropType_PT12',\t'SpcHsgGoals_1',\t'SpcHsgGoals_2',\t'AcqTyp_1',\t'AcqTyp_4',\t'Bank_Atlanta',\t'Bank_Boston',\t'Bank_Chicago',\t'Bank_Cincinnati',\t'Bank_Dallas',\t'Bank_Des Moines',\t'Bank_Indianapolis',\t'Bank_New York',\t'Bank_Pittsburgh',\t'Bank_San Francisco',\t'Bank_Topeka',\t'FedGuar_0',\t'FedGuar_1',\t'FedGuar_2',\t'FedGuar_3',\t'First_1',\t'First_2',\t'Self_1',\t'Self_2',\t'NumBor_1',\t'NumBor_2',\t'NumBor_3',\t'NumBor_4',]\n",
        "morenewdf = newdf.copy()\n",
        "for val in oheEncodedCols:\n",
        "  filteredLen = morenewdf[morenewdf[val] == 1].count()[0]\n",
        "  datasetLen = morenewdf.count()[0]\n",
        "  if( filteredLen < 0.05 * datasetLen and filteredLen > 0.95 * datasetLen):\n",
        "    morenewdf = morenewdf.drop([val], axis=1)\n",
        "# df[ df > 0 ].count(axis=1)"
      ],
      "execution_count": null,
      "outputs": []
    },
    {
      "cell_type": "code",
      "metadata": {
        "id": "tYwkyKMbwCjd"
      },
      "source": [
        "morenewdf"
      ],
      "execution_count": null,
      "outputs": []
    },
    {
      "cell_type": "code",
      "metadata": {
        "id": "fZ8zoem7XpV_"
      },
      "source": [
        "morenewdf.to_csv('Even_More_cleaned_dataset.csv',index=False)"
      ],
      "execution_count": null,
      "outputs": []
    },
    {
      "cell_type": "code",
      "metadata": {
        "id": "_KqCTotsZwMy"
      },
      "source": [
        ""
      ],
      "execution_count": null,
      "outputs": []
    },
    {
      "cell_type": "markdown",
      "metadata": {
        "id": "O6hDtP9gpGkr"
      },
      "source": [
        "# PCA"
      ]
    },
    {
      "cell_type": "code",
      "metadata": {
        "id": "whoE1UJfyyC3"
      },
      "source": [
        "from sklearn.decomposition import PCA\n"
      ],
      "execution_count": null,
      "outputs": []
    },
    {
      "cell_type": "code",
      "metadata": {
        "id": "-B9nYqdXpHXz"
      },
      "source": [
        "features = ['BoRace', 'CoRace', 'BoGender', 'CoGender', 'Geog', 'BoCreditScor', 'CoBoCreditScor',  'BoEth', 'CoEth', 'SpcHsgGoals', 'AcqTyp', 'FedGuar', 'First', 'Self', 'NumBor','BoAge', 'CoAge','MSA', 'MinPer', 'LocMedY',\t'Tractrat',\t'Income',\t'IncRat',\t'UPB',\t'LTV',\t'Term']\n",
        "\n",
        "# Separating out the features\n",
        "x = df.loc[:, features].values\n",
        "# Separating out the target\n",
        "y = df.loc[:,['Rate']].values"
      ],
      "execution_count": null,
      "outputs": []
    },
    {
      "cell_type": "code",
      "metadata": {
        "colab": {
          "base_uri": "https://localhost:8080/"
        },
        "id": "ZH9iQm674CQX",
        "outputId": "f352b827-309d-4f90-f016-263e7a991172"
      },
      "source": [
        "x[0]"
      ],
      "execution_count": null,
      "outputs": [
        {
          "output_type": "execute_result",
          "data": {
            "text/plain": [
              "array([7.0000e+00, 7.0000e+00, 1.0000e+00, 2.0000e+00, 2.0000e+00,\n",
              "       5.0000e+00, 5.0000e+00, 1.0000e+00, 1.0000e+00, 2.0000e+00,\n",
              "       1.0000e+00, 2.0000e+00, 2.0000e+00, 2.0000e+00, 2.0000e+00,\n",
              "       7.0000e+01, 6.9000e+01, 2.5020e+04, 9.9150e+01, 1.7448e+04,\n",
              "       9.0920e-01, 6.0588e+04, 3.2928e+00, 7.1967e+04, 8.9000e-01,\n",
              "       1.8000e+02])"
            ]
          },
          "metadata": {
            "tags": []
          },
          "execution_count": 251
        }
      ]
    },
    {
      "cell_type": "code",
      "metadata": {
        "id": "MrexfVYiys6d"
      },
      "source": [
        "principalComponents = pca.fit_transform(x)\n",
        "\n",
        "principalDf = pd.DataFrame(data = principalComponents\n",
        "             , columns = ['principal component 1', 'principal component 2'])"
      ],
      "execution_count": null,
      "outputs": []
    },
    {
      "cell_type": "code",
      "metadata": {
        "id": "qum0RKqGy6W7"
      },
      "source": [
        "finalDf = pd.concat([principalDf, df[['Rate']]], axis = 1)"
      ],
      "execution_count": null,
      "outputs": []
    },
    {
      "cell_type": "code",
      "metadata": {
        "colab": {
          "base_uri": "https://localhost:8080/",
          "height": 402
        },
        "id": "a2oL9GPh4uu3",
        "outputId": "b96f2c6f-1628-4386-ab2b-52920a52ad74"
      },
      "source": [
        "finalDf"
      ],
      "execution_count": null,
      "outputs": [
        {
          "output_type": "execute_result",
          "data": {
            "text/html": [
              "<div>\n",
              "<style scoped>\n",
              "    .dataframe tbody tr th:only-of-type {\n",
              "        vertical-align: middle;\n",
              "    }\n",
              "\n",
              "    .dataframe tbody tr th {\n",
              "        vertical-align: top;\n",
              "    }\n",
              "\n",
              "    .dataframe thead th {\n",
              "        text-align: right;\n",
              "    }\n",
              "</style>\n",
              "<table border=\"1\" class=\"dataframe\">\n",
              "  <thead>\n",
              "    <tr style=\"text-align: right;\">\n",
              "      <th></th>\n",
              "      <th>principal component 1</th>\n",
              "      <th>principal component 2</th>\n",
              "      <th>Rate</th>\n",
              "    </tr>\n",
              "  </thead>\n",
              "  <tbody>\n",
              "    <tr>\n",
              "      <th>0</th>\n",
              "      <td>-166206.464784</td>\n",
              "      <td>18096.084893</td>\n",
              "      <td>0.0288</td>\n",
              "    </tr>\n",
              "    <tr>\n",
              "      <th>1</th>\n",
              "      <td>299489.020924</td>\n",
              "      <td>-16656.350804</td>\n",
              "      <td>0.0325</td>\n",
              "    </tr>\n",
              "    <tr>\n",
              "      <th>2</th>\n",
              "      <td>180126.993552</td>\n",
              "      <td>-69866.676329</td>\n",
              "      <td>0.0325</td>\n",
              "    </tr>\n",
              "    <tr>\n",
              "      <th>3</th>\n",
              "      <td>42329.211893</td>\n",
              "      <td>42484.941295</td>\n",
              "      <td>0.0338</td>\n",
              "    </tr>\n",
              "    <tr>\n",
              "      <th>4</th>\n",
              "      <td>34607.965054</td>\n",
              "      <td>-72158.150732</td>\n",
              "      <td>0.0325</td>\n",
              "    </tr>\n",
              "    <tr>\n",
              "      <th>...</th>\n",
              "      <td>...</td>\n",
              "      <td>...</td>\n",
              "      <td>...</td>\n",
              "    </tr>\n",
              "    <tr>\n",
              "      <th>55985</th>\n",
              "      <td>387382.275033</td>\n",
              "      <td>-124975.613351</td>\n",
              "      <td>0.0400</td>\n",
              "    </tr>\n",
              "    <tr>\n",
              "      <th>55986</th>\n",
              "      <td>104712.618048</td>\n",
              "      <td>56935.680358</td>\n",
              "      <td>0.0400</td>\n",
              "    </tr>\n",
              "    <tr>\n",
              "      <th>55987</th>\n",
              "      <td>34223.234638</td>\n",
              "      <td>62377.734721</td>\n",
              "      <td>0.0388</td>\n",
              "    </tr>\n",
              "    <tr>\n",
              "      <th>55988</th>\n",
              "      <td>-83206.900117</td>\n",
              "      <td>109455.885218</td>\n",
              "      <td>0.0425</td>\n",
              "    </tr>\n",
              "    <tr>\n",
              "      <th>55989</th>\n",
              "      <td>-105838.144947</td>\n",
              "      <td>10916.706440</td>\n",
              "      <td>0.0375</td>\n",
              "    </tr>\n",
              "  </tbody>\n",
              "</table>\n",
              "<p>55990 rows × 3 columns</p>\n",
              "</div>"
            ],
            "text/plain": [
              "       principal component 1  principal component 2    Rate\n",
              "0             -166206.464784           18096.084893  0.0288\n",
              "1              299489.020924          -16656.350804  0.0325\n",
              "2              180126.993552          -69866.676329  0.0325\n",
              "3               42329.211893           42484.941295  0.0338\n",
              "4               34607.965054          -72158.150732  0.0325\n",
              "...                      ...                    ...     ...\n",
              "55985          387382.275033         -124975.613351  0.0400\n",
              "55986          104712.618048           56935.680358  0.0400\n",
              "55987           34223.234638           62377.734721  0.0388\n",
              "55988          -83206.900117          109455.885218  0.0425\n",
              "55989         -105838.144947           10916.706440  0.0375\n",
              "\n",
              "[55990 rows x 3 columns]"
            ]
          },
          "metadata": {
            "tags": []
          },
          "execution_count": 254
        }
      ]
    },
    {
      "cell_type": "code",
      "metadata": {
        "id": "NRLYI1Uj4xL5"
      },
      "source": [
        ""
      ],
      "execution_count": null,
      "outputs": []
    }
  ]
}