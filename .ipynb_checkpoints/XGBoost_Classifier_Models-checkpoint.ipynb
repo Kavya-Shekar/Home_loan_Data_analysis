{
 "cells": [
  {
   "cell_type": "code",
   "execution_count": 1,
   "metadata": {},
   "outputs": [],
   "source": [
    "import numpy as np\n",
    "import pandas as pd\n",
    "from sklearn.model_selection import train_test_split\n",
    "from sklearn.metrics import accuracy_score\n",
    "import xgboost as xgb\n",
    "from xgboost import XGBClassifier\n"
   ]
  },
  {
   "cell_type": "code",
   "execution_count": 2,
   "metadata": {},
   "outputs": [],
   "source": [
    "df = pd.read_csv(\"Even_more_cleaned_dataset.csv\")"
   ]
  },
  {
   "cell_type": "code",
   "execution_count": 3,
   "metadata": {},
   "outputs": [],
   "source": [
    "non_ohe_columns = ['Unnamed: 0', 'Assigned.ID', 'Geog', 'BoRace', 'CoRace', \\\n",
    "                   'BoGender', 'CoGender', 'BoCreditScor', 'CoBoCreditScor', 'BoEth', 'CoEth']"
   ]
  },
  {
   "cell_type": "code",
   "execution_count": 6,
   "metadata": {},
   "outputs": [
    {
     "data": {
      "text/plain": [
       "Unnamed: 0            int64\n",
       "Assigned.ID           int64\n",
       "BoRace_5              int64\n",
       "BoRace_7              int64\n",
       "CoRace_5              int64\n",
       "CoRace_8              int64\n",
       "BoGender_1            int64\n",
       "BoGender_2            int64\n",
       "BoGender_3            int64\n",
       "CoGender_1            int64\n",
       "CoGender_2            int64\n",
       "CoGender_4            int64\n",
       "Geog_2                int64\n",
       "BoCreditScor_3        int64\n",
       "BoCreditScor_4        int64\n",
       "BoCreditScor_5        int64\n",
       "CoBoCreditScor_4      int64\n",
       "CoBoCreditScor_5      int64\n",
       "CoBoCreditScor_9      int64\n",
       "PropType_PT01         int64\n",
       "PropType_PT07         int64\n",
       "BoEth_2               int64\n",
       "BoEth_3               int64\n",
       "CoEth_2               int64\n",
       "CoEth_5               int64\n",
       "SpcHsgGoals_1         int64\n",
       "SpcHsgGoals_2         int64\n",
       "AcqTyp_1              int64\n",
       "AcqTyp_4              int64\n",
       "Bank_Boston           int64\n",
       "                     ...   \n",
       "MSA                 float64\n",
       "MinPer              float64\n",
       "LocMedY             float64\n",
       "Tractrat            float64\n",
       "Income              float64\n",
       "IncRat              float64\n",
       "UPB                 float64\n",
       "LTV                 float64\n",
       "Term                float64\n",
       "Rate                float64\n",
       "Front               float64\n",
       "Back                float64\n",
       "PMI                 float64\n",
       "BoRace                int64\n",
       "CoRace                int64\n",
       "BoGender              int64\n",
       "CoGender              int64\n",
       "Geog                  int64\n",
       "BoCreditScor          int64\n",
       "CoBoCreditScor        int64\n",
       "PropType             object\n",
       "BoEth                 int64\n",
       "CoEth                 int64\n",
       "SpcHsgGoals           int64\n",
       "AcqTyp                int64\n",
       "Bank                 object\n",
       "FedGuar               int64\n",
       "First                 int64\n",
       "Self                  int64\n",
       "NumBor                int64\n",
       "Length: 75, dtype: object"
      ]
     },
     "execution_count": 6,
     "metadata": {},
     "output_type": "execute_result"
    }
   ],
   "source": [
    "df.dtypes"
   ]
  },
  {
   "cell_type": "code",
   "execution_count": null,
   "metadata": {},
   "outputs": [],
   "source": [
    "# Classification for BoEth\n",
    "\n",
    "# Creating the dataset for BoEth Class Prediction\n",
    "BoEth_col = df[\"BoEth\"]\n",
    "df_BoEth = df.drop(non_ohe_columns, axis = 1)\n",
    "df_BoEth = df_BoEth.drop(['BoEth_2', 'BoEth_3'], axis = 1)\n",
    "\n",
    "# categorical columns should be one hot encoded\n",
    "df_BoEth = df_BoEth.drop(['Bank', 'PropType', 'SpcHsgGoals', 'AcqTyp', 'FedGuar', 'First', 'Self', 'NumBor'], axis = 1)\n",
    "\n",
    "df_BoEth[\"CoEth\"] = BoEth_col\n",
    "\n",
    "#df_BoEth = df_BoEth.apply(pd.to_numeric)\n",
    "for col in df_BoEth.columns:\n",
    "    df_BoEth[col] = df_BoEth[col].astype(float)\n",
    "\n",
    "X = df_BoEth.iloc[:, :-1].values\n",
    "y = df_BoEth.iloc[:, :-1].values\n",
    "\n",
    "X_train, X_test, y_train, y_test = train_test_split(X, y, test_size = 0.3, random_state = 6)"
   ]
  },
  {
   "cell_type": "code",
   "execution_count": null,
   "metadata": {},
   "outputs": [],
   "source": [
    "df_BoEth.head()"
   ]
  },
  {
   "cell_type": "code",
   "execution_count": null,
   "metadata": {},
   "outputs": [],
   "source": [
    "df_BoEth.dtypes"
   ]
  },
  {
   "cell_type": "code",
   "execution_count": null,
   "metadata": {},
   "outputs": [],
   "source": [
    "BoEth_XGB_Model = XGBClassifier()\n",
    "BoEth_XGB_Model.fit(X_train, y_train.ravel())"
   ]
  },
  {
   "cell_type": "code",
   "execution_count": null,
   "metadata": {},
   "outputs": [],
   "source": [
    "y_BoEth_pred_train = BoEth_XGB_Model.predict(X_test)"
   ]
  },
  {
   "cell_type": "code",
   "execution_count": null,
   "metadata": {},
   "outputs": [],
   "source": [
    "print(confusion_matrix(y_train, ))"
   ]
  }
 ],
 "metadata": {
  "kernelspec": {
   "display_name": "Python 3",
   "language": "python",
   "name": "python3"
  },
  "language_info": {
   "codemirror_mode": {
    "name": "ipython",
    "version": 3
   },
   "file_extension": ".py",
   "mimetype": "text/x-python",
   "name": "python",
   "nbconvert_exporter": "python",
   "pygments_lexer": "ipython3",
   "version": "3.6.8"
  }
 },
 "nbformat": 4,
 "nbformat_minor": 2
}
