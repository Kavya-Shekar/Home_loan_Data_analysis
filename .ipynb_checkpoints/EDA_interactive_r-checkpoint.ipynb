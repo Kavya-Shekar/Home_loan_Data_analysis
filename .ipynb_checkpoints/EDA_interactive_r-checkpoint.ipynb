{
 "cells": [
  {
   "cell_type": "code",
   "execution_count": 1,
   "metadata": {
    "id": "WVGiDwx8gC4P"
   },
   "outputs": [],
   "source": [
    "data = read.csv('2017_PUDB_Export.csv')"
   ]
  },
  {
   "cell_type": "code",
   "execution_count": 2,
   "metadata": {
    "colab": {
     "base_uri": "https://localhost:8080/",
     "height": 215
    },
    "id": "1K42-NSyh9Rk",
    "outputId": "392d26c4-2e35-4452-dfdf-c7b959192b3e"
   },
   "outputs": [
    {
     "data": {
      "text/html": [
       "<table>\n",
       "<caption>A data.frame: 6 × 82</caption>\n",
       "<thead>\n",
       "\t<tr><th></th><th scope=col>Year</th><th scope=col>Assigned.ID</th><th scope=col>Bank</th><th scope=col>FIPSStateCode</th><th scope=col>FIPSCountyCode</th><th scope=col>MSA</th><th scope=col>FeatureID</th><th scope=col>Tract</th><th scope=col>MinPer</th><th scope=col>TraMedY</th><th scope=col>...</th><th scope=col>Corace2</th><th scope=col>Corace3</th><th scope=col>Corace4</th><th scope=col>Corace5</th><th scope=col>HOEPA</th><th scope=col>LienStatus</th><th scope=col>SpcHsgGoals</th><th scope=col>FedFinStbltyPlan</th><th scope=col>AcqTyp</th><th scope=col>GSEREO</th></tr>\n",
       "\t<tr><th></th><th scope=col>&lt;int&gt;</th><th scope=col>&lt;int&gt;</th><th scope=col>&lt;chr&gt;</th><th scope=col>&lt;int&gt;</th><th scope=col>&lt;int&gt;</th><th scope=col>&lt;int&gt;</th><th scope=col>&lt;dbl&gt;</th><th scope=col>&lt;dbl&gt;</th><th scope=col>&lt;dbl&gt;</th><th scope=col>&lt;int&gt;</th><th scope=col>...</th><th scope=col>&lt;int&gt;</th><th scope=col>&lt;int&gt;</th><th scope=col>&lt;int&gt;</th><th scope=col>&lt;int&gt;</th><th scope=col>&lt;int&gt;</th><th scope=col>&lt;int&gt;</th><th scope=col>&lt;int&gt;</th><th scope=col>&lt;int&gt;</th><th scope=col>&lt;int&gt;</th><th scope=col>&lt;int&gt;</th></tr>\n",
       "</thead>\n",
       "<tbody>\n",
       "\t<tr><th scope=row>1</th><td>2017</td><td>2092102</td><td>Atlanta</td><td>72</td><td> 15</td><td>25020</td><td>   1609553</td><td>2802.02</td><td>99.15</td><td> 15863</td><td>...</td><td>6</td><td>6</td><td>6</td><td>6</td><td>2</td><td>1</td><td>2</td><td>2</td><td>1</td><td>2</td></tr>\n",
       "\t<tr><th scope=row>2</th><td>2017</td><td>2092103</td><td>Atlanta</td><td>66</td><td> 10</td><td>99999</td><td>9999999999</td><td>9540.00</td><td>92.90</td><td> 75804</td><td>...</td><td>6</td><td>6</td><td>6</td><td>6</td><td>2</td><td>1</td><td>2</td><td>2</td><td>1</td><td>2</td></tr>\n",
       "\t<tr><th scope=row>3</th><td>2017</td><td>2092104</td><td>Atlanta</td><td>66</td><td> 10</td><td>99999</td><td>   1389637</td><td>9563.00</td><td>92.90</td><td> 49250</td><td>...</td><td>6</td><td>6</td><td>6</td><td>6</td><td>2</td><td>1</td><td>2</td><td>2</td><td>1</td><td>2</td></tr>\n",
       "\t<tr><th scope=row>4</th><td>2017</td><td>2092105</td><td>Atlanta</td><td>48</td><td>439</td><td>19100</td><td>   1337443</td><td>1141.03</td><td>25.31</td><td>102791</td><td>...</td><td>6</td><td>6</td><td>6</td><td>6</td><td>2</td><td>1</td><td>2</td><td>2</td><td>1</td><td>2</td></tr>\n",
       "\t<tr><th scope=row>5</th><td>2017</td><td>2092106</td><td>Atlanta</td><td> 6</td><td> 99</td><td>33700</td><td>    277574</td><td>  32.02</td><td>71.74</td><td> 58235</td><td>...</td><td>6</td><td>6</td><td>6</td><td>6</td><td>2</td><td>1</td><td>2</td><td>2</td><td>1</td><td>2</td></tr>\n",
       "\t<tr><th scope=row>6</th><td>2017</td><td>2092107</td><td>Atlanta</td><td>39</td><td> 95</td><td>45780</td><td>   1067015</td><td>  64.00</td><td>11.75</td><td> 64901</td><td>...</td><td>8</td><td>8</td><td>8</td><td>8</td><td>2</td><td>1</td><td>2</td><td>2</td><td>1</td><td>2</td></tr>\n",
       "</tbody>\n",
       "</table>\n"
      ],
      "text/latex": [
       "A data.frame: 6 × 82\n",
       "\\begin{tabular}{r|lllllllllllllllllllll}\n",
       "  & Year & Assigned.ID & Bank & FIPSStateCode & FIPSCountyCode & MSA & FeatureID & Tract & MinPer & TraMedY & ... & Corace2 & Corace3 & Corace4 & Corace5 & HOEPA & LienStatus & SpcHsgGoals & FedFinStbltyPlan & AcqTyp & GSEREO\\\\\n",
       "  & <int> & <int> & <chr> & <int> & <int> & <int> & <dbl> & <dbl> & <dbl> & <int> & ... & <int> & <int> & <int> & <int> & <int> & <int> & <int> & <int> & <int> & <int>\\\\\n",
       "\\hline\n",
       "\t1 & 2017 & 2092102 & Atlanta & 72 &  15 & 25020 &    1609553 & 2802.02 & 99.15 &  15863 & ... & 6 & 6 & 6 & 6 & 2 & 1 & 2 & 2 & 1 & 2\\\\\n",
       "\t2 & 2017 & 2092103 & Atlanta & 66 &  10 & 99999 & 9999999999 & 9540.00 & 92.90 &  75804 & ... & 6 & 6 & 6 & 6 & 2 & 1 & 2 & 2 & 1 & 2\\\\\n",
       "\t3 & 2017 & 2092104 & Atlanta & 66 &  10 & 99999 &    1389637 & 9563.00 & 92.90 &  49250 & ... & 6 & 6 & 6 & 6 & 2 & 1 & 2 & 2 & 1 & 2\\\\\n",
       "\t4 & 2017 & 2092105 & Atlanta & 48 & 439 & 19100 &    1337443 & 1141.03 & 25.31 & 102791 & ... & 6 & 6 & 6 & 6 & 2 & 1 & 2 & 2 & 1 & 2\\\\\n",
       "\t5 & 2017 & 2092106 & Atlanta &  6 &  99 & 33700 &     277574 &   32.02 & 71.74 &  58235 & ... & 6 & 6 & 6 & 6 & 2 & 1 & 2 & 2 & 1 & 2\\\\\n",
       "\t6 & 2017 & 2092107 & Atlanta & 39 &  95 & 45780 &    1067015 &   64.00 & 11.75 &  64901 & ... & 8 & 8 & 8 & 8 & 2 & 1 & 2 & 2 & 1 & 2\\\\\n",
       "\\end{tabular}\n"
      ],
      "text/markdown": [
       "\n",
       "A data.frame: 6 × 82\n",
       "\n",
       "| <!--/--> | Year &lt;int&gt; | Assigned.ID &lt;int&gt; | Bank &lt;chr&gt; | FIPSStateCode &lt;int&gt; | FIPSCountyCode &lt;int&gt; | MSA &lt;int&gt; | FeatureID &lt;dbl&gt; | Tract &lt;dbl&gt; | MinPer &lt;dbl&gt; | TraMedY &lt;int&gt; | ... ... | Corace2 &lt;int&gt; | Corace3 &lt;int&gt; | Corace4 &lt;int&gt; | Corace5 &lt;int&gt; | HOEPA &lt;int&gt; | LienStatus &lt;int&gt; | SpcHsgGoals &lt;int&gt; | FedFinStbltyPlan &lt;int&gt; | AcqTyp &lt;int&gt; | GSEREO &lt;int&gt; |\n",
       "|---|---|---|---|---|---|---|---|---|---|---|---|---|---|---|---|---|---|---|---|---|---|\n",
       "| 1 | 2017 | 2092102 | Atlanta | 72 |  15 | 25020 |    1609553 | 2802.02 | 99.15 |  15863 | ... | 6 | 6 | 6 | 6 | 2 | 1 | 2 | 2 | 1 | 2 |\n",
       "| 2 | 2017 | 2092103 | Atlanta | 66 |  10 | 99999 | 9999999999 | 9540.00 | 92.90 |  75804 | ... | 6 | 6 | 6 | 6 | 2 | 1 | 2 | 2 | 1 | 2 |\n",
       "| 3 | 2017 | 2092104 | Atlanta | 66 |  10 | 99999 |    1389637 | 9563.00 | 92.90 |  49250 | ... | 6 | 6 | 6 | 6 | 2 | 1 | 2 | 2 | 1 | 2 |\n",
       "| 4 | 2017 | 2092105 | Atlanta | 48 | 439 | 19100 |    1337443 | 1141.03 | 25.31 | 102791 | ... | 6 | 6 | 6 | 6 | 2 | 1 | 2 | 2 | 1 | 2 |\n",
       "| 5 | 2017 | 2092106 | Atlanta |  6 |  99 | 33700 |     277574 |   32.02 | 71.74 |  58235 | ... | 6 | 6 | 6 | 6 | 2 | 1 | 2 | 2 | 1 | 2 |\n",
       "| 6 | 2017 | 2092107 | Atlanta | 39 |  95 | 45780 |    1067015 |   64.00 | 11.75 |  64901 | ... | 8 | 8 | 8 | 8 | 2 | 1 | 2 | 2 | 1 | 2 |\n",
       "\n"
      ],
      "text/plain": [
       "  Year Assigned.ID Bank    FIPSStateCode FIPSCountyCode MSA   FeatureID \n",
       "1 2017 2092102     Atlanta 72             15            25020    1609553\n",
       "2 2017 2092103     Atlanta 66             10            99999 9999999999\n",
       "3 2017 2092104     Atlanta 66             10            99999    1389637\n",
       "4 2017 2092105     Atlanta 48            439            19100    1337443\n",
       "5 2017 2092106     Atlanta  6             99            33700     277574\n",
       "6 2017 2092107     Atlanta 39             95            45780    1067015\n",
       "  Tract   MinPer TraMedY ... Corace2 Corace3 Corace4 Corace5 HOEPA LienStatus\n",
       "1 2802.02 99.15   15863  ... 6       6       6       6       2     1         \n",
       "2 9540.00 92.90   75804  ... 6       6       6       6       2     1         \n",
       "3 9563.00 92.90   49250  ... 6       6       6       6       2     1         \n",
       "4 1141.03 25.31  102791  ... 6       6       6       6       2     1         \n",
       "5   32.02 71.74   58235  ... 6       6       6       6       2     1         \n",
       "6   64.00 11.75   64901  ... 8       8       8       8       2     1         \n",
       "  SpcHsgGoals FedFinStbltyPlan AcqTyp GSEREO\n",
       "1 2           2                1      2     \n",
       "2 2           2                1      2     \n",
       "3 2           2                1      2     \n",
       "4 2           2                1      2     \n",
       "5 2           2                1      2     \n",
       "6 2           2                1      2     "
      ]
     },
     "metadata": {},
     "output_type": "display_data"
    }
   ],
   "source": [
    "head(data)"
   ]
  },
  {
   "cell_type": "code",
   "execution_count": 5,
   "metadata": {
    "colab": {
     "base_uri": "https://localhost:8080/",
     "height": 34
    },
    "id": "ujesHOxPh-oF",
    "outputId": "a7137963-c74d-4669-d3a6-181e5e4ddc87"
   },
   "outputs": [
    {
     "data": {
      "text/html": [
       "82"
      ],
      "text/latex": [
       "82"
      ],
      "text/markdown": [
       "82"
      ],
      "text/plain": [
       "[1] 82"
      ]
     },
     "metadata": {
      "tags": []
     },
     "output_type": "display_data"
    }
   ],
   "source": [
    "length(data)"
   ]
  },
  {
   "cell_type": "code",
   "execution_count": 33,
   "metadata": {
    "colab": {
     "base_uri": "https://localhost:8080/",
     "height": 34
    },
    "id": "v0f5QkUmtdrO",
    "outputId": "0c4a39a8-34a3-4fd2-b7f5-381bd9136c4f"
   },
   "outputs": [
    {
     "data": {
      "text/html": [
       "55990"
      ],
      "text/latex": [
       "55990"
      ],
      "text/markdown": [
       "55990"
      ],
      "text/plain": [
       "[1] 55990"
      ]
     },
     "metadata": {
      "tags": []
     },
     "output_type": "display_data"
    }
   ],
   "source": [
    "nrow(data)"
   ]
  },
  {
   "cell_type": "code",
   "execution_count": 6,
   "metadata": {
    "colab": {
     "base_uri": "https://localhost:8080/",
     "height": 1000
    },
    "id": "z75eh7JCgGhO",
    "outputId": "22faa10b-c3f6-44a6-ebfe-5fa1f1b0474e"
   },
   "outputs": [
    {
     "data": {
      "text/plain": [
       "      Year       Assigned.ID          Bank           FIPSStateCode  \n",
       " Min.   :2017   Min.   :2072282   Length:55990       Min.   : 1.00  \n",
       " 1st Qu.:2017   1st Qu.:2086280   Class :character   1st Qu.:18.00  \n",
       " Median :2017   Median :2100278   Mode  :character   Median :25.00  \n",
       " Mean   :2017   Mean   :2100277                      Mean   :27.26  \n",
       " 3rd Qu.:2017   3rd Qu.:2114275                      3rd Qu.:39.00  \n",
       " Max.   :2017   Max.   :2128272                      Max.   :72.00  \n",
       " FIPSCountyCode        MSA          FeatureID             Tract     \n",
       " Min.   :  1.00   Min.   :10100   Min.   :8.950e+02   Min.   :   1  \n",
       " 1st Qu.: 31.00   1st Qu.:19380   1st Qu.:1.265e+06   1st Qu.: 107  \n",
       " Median : 67.00   Median :30460   Median :2.403e+06   Median : 616  \n",
       " Mean   : 81.13   Mean   :35922   Mean   :4.547e+09   Mean   :2865  \n",
       " 3rd Qu.:115.00   3rd Qu.:41860   3rd Qu.:1.000e+10   3rd Qu.:5111  \n",
       " Max.   :840.00   Max.   :99999   Max.   :1.000e+10   Max.   :9917  \n",
       "     MinPer          TraMedY          LocMedY          Tractrat     \n",
       " Min.   :  0.00   Min.   :     0   Min.   : 17448   Min.   :0.0000  \n",
       " 1st Qu.:  5.38   1st Qu.: 61296   1st Qu.: 61182   1st Qu.:0.9386  \n",
       " Median : 11.39   Median : 75731   Median : 67016   Median :1.1100  \n",
       " Mean   : 18.44   Mean   : 82372   Mean   : 69386   Mean   :1.1763  \n",
       " 3rd Qu.: 23.58   3rd Qu.: 97721   3rd Qu.: 73632   3rd Qu.:1.3600  \n",
       " Max.   :100.00   Max.   :250001   Max.   :121130   Max.   :3.9037  \n",
       "     Income           CurAreY           IncRat             UPB         \n",
       " Min.   :   3396   Min.   : 18400   Min.   : 0.0377   Min.   :   5693  \n",
       " 1st Qu.:  60408   1st Qu.: 60500   1st Qu.: 0.8992   1st Qu.: 125000  \n",
       " Median :  91520   Median : 66400   Median : 1.3249   Median : 194000  \n",
       " Mean   : 109301   Mean   : 69910   Mean   : 1.5764   Mean   : 229809  \n",
       " 3rd Qu.: 133896   3rd Qu.: 74700   3rd Qu.: 1.9031   3rd Qu.: 300000  \n",
       " Max.   :4205372   Max.   :131500   Max.   :68.1584   Max.   :1223475  \n",
       "      LTV            MortDate       AcquDate       Purpose           Coop  \n",
       " Min.   :0.0100   Min.   :2009   Min.   :2017   Min.   :1.000   Min.   :2  \n",
       " 1st Qu.:0.7000   1st Qu.:2017   1st Qu.:2017   1st Qu.:1.000   1st Qu.:2  \n",
       " Median :0.8000   Median :2017   Median :2017   Median :1.000   Median :2  \n",
       " Mean   :0.7678   Mean   :2017   Mean   :2017   Mean   :1.413   Mean   :2  \n",
       " 3rd Qu.:0.8500   3rd Qu.:2017   3rd Qu.:2017   3rd Qu.:2.000   3rd Qu.:2  \n",
       " Max.   :1.1600   Max.   :2017   Max.   :2017   Max.   :4.000   Max.   :2  \n",
       "    Product     FedGuar            Term          AmorTerm        SellType\n",
       " Min.   :1   Min.   :0.0000   Min.   : 60.0   Min.   : 60.0   Min.   :1  \n",
       " 1st Qu.:1   1st Qu.:0.0000   1st Qu.:360.0   1st Qu.:360.0   1st Qu.:1  \n",
       " Median :1   Median :0.0000   Median :360.0   Median :360.0   Median :1  \n",
       " Mean   :1   Mean   :0.1997   Mean   :336.5   Mean   :336.5   Mean   :1  \n",
       " 3rd Qu.:1   3rd Qu.:0.0000   3rd Qu.:360.0   3rd Qu.:360.0   3rd Qu.:1  \n",
       " Max.   :1   Max.   :3.0000   Max.   :360.0   Max.   :360.0   Max.   :1  \n",
       "     NumBor          First            CICA           BoRace          CoRace    \n",
       " Min.   :1.000   Min.   :1.000   Min.   :1.000   Min.   :1.000   Min.   :1.00  \n",
       " 1st Qu.:1.000   1st Qu.:2.000   1st Qu.:9.000   1st Qu.:5.000   1st Qu.:5.00  \n",
       " Median :2.000   Median :2.000   Median :9.000   Median :5.000   Median :5.00  \n",
       " Mean   :1.565   Mean   :1.794   Mean   :8.981   Mean   :4.961   Mean   :6.33  \n",
       " 3rd Qu.:2.000   3rd Qu.:2.000   3rd Qu.:9.000   3rd Qu.:5.000   3rd Qu.:8.00  \n",
       " Max.   :4.000   Max.   :2.000   Max.   :9.000   Max.   :7.000   Max.   :8.00  \n",
       "    BoGender        CoGender         BoAge           CoAge      \n",
       " Min.   :1.000   Min.   :1.000   Min.   :18.00   Min.   :19.00  \n",
       " 1st Qu.:1.000   1st Qu.:2.000   1st Qu.:33.00   1st Qu.:40.00  \n",
       " Median :1.000   Median :2.000   Median :43.00   Median :68.00  \n",
       " Mean   :1.367   Mean   :2.821   Mean   :46.62   Mean   :69.22  \n",
       " 3rd Qu.:2.000   3rd Qu.:4.000   3rd Qu.:55.00   3rd Qu.:98.00  \n",
       " Max.   :3.000   Max.   :4.000   Max.   :99.00   Max.   :99.00  \n",
       "     Occup          NumUnits          Bed1         Bed2         Bed3   \n",
       " Min.   :1.000   Min.   :1.000   Min.   : 2   Min.   :98   Min.   :98  \n",
       " 1st Qu.:1.000   1st Qu.:1.000   1st Qu.:98   1st Qu.:98   1st Qu.:98  \n",
       " Median :1.000   Median :1.000   Median :98   Median :98   Median :98  \n",
       " Mean   :1.023   Mean   :1.011   Mean   :98   Mean   :98   Mean   :98  \n",
       " 3rd Qu.:1.000   3rd Qu.:1.000   3rd Qu.:98   3rd Qu.:98   3rd Qu.:98  \n",
       " Max.   :3.000   Max.   :4.000   Max.   :98   Max.   :98   Max.   :98  \n",
       "      Bed4         Aff1        Aff2        Aff3        Aff4  \n",
       " Min.   :98   Min.   :2   Min.   :2   Min.   :2   Min.   :2  \n",
       " 1st Qu.:98   1st Qu.:2   1st Qu.:2   1st Qu.:2   1st Qu.:2  \n",
       " Median :98   Median :2   Median :2   Median :2   Median :2  \n",
       " Mean   :98   Mean   :2   Mean   :2   Mean   :2   Mean   :2  \n",
       " 3rd Qu.:98   3rd Qu.:2   3rd Qu.:2   3rd Qu.:2   3rd Qu.:2  \n",
       " Max.   :98   Max.   :2   Max.   :2   Max.   :2   Max.   :2  \n",
       "     Rent1               Rent2           Rent3           Rent4      \n",
       " Min.   :1.295e+03   Min.   :1e+10   Min.   :1e+10   Min.   :1e+10  \n",
       " 1st Qu.:1.000e+10   1st Qu.:1e+10   1st Qu.:1e+10   1st Qu.:1e+10  \n",
       " Median :1.000e+10   Median :1e+10   Median :1e+10   Median :1e+10  \n",
       " Mean   :1.000e+10   Mean   :1e+10   Mean   :1e+10   Mean   :1e+10  \n",
       " 3rd Qu.:1.000e+10   3rd Qu.:1e+10   3rd Qu.:1e+10   3rd Qu.:1e+10  \n",
       " Max.   :1.000e+10   Max.   :1e+10   Max.   :1e+10   Max.   :1e+10  \n",
       "    RentUt1             RentUt2         RentUt3         RentUt4     \n",
       " Min.   :1.295e+03   Min.   :1e+10   Min.   :1e+10   Min.   :1e+10  \n",
       " 1st Qu.:1.000e+10   1st Qu.:1e+10   1st Qu.:1e+10   1st Qu.:1e+10  \n",
       " Median :1.000e+10   Median :1e+10   Median :1e+10   Median :1e+10  \n",
       " Mean   :1.000e+10   Mean   :1e+10   Mean   :1e+10   Mean   :1e+10  \n",
       " 3rd Qu.:1.000e+10   3rd Qu.:1e+10   3rd Qu.:1e+10   3rd Qu.:1e+10  \n",
       " Max.   :1.000e+10   Max.   :1e+10   Max.   :1e+10   Max.   :1e+10  \n",
       "      Geog            Rate             Amount            Front         \n",
       " Min.   :1.000   Min.   :0.02500   Min.   :  12000   Min.   :  0.0001  \n",
       " 1st Qu.:2.000   1st Qu.:0.03750   1st Qu.: 125000   1st Qu.:  0.1444  \n",
       " Median :2.000   Median :0.04000   Median : 194400   Median :  0.1907  \n",
       " Mean   :1.958   Mean   :0.03958   Mean   : 230053   Mean   :  0.2092  \n",
       " 3rd Qu.:2.000   3rd Qu.:0.04130   3rd Qu.: 300000   3rd Qu.:  0.2519  \n",
       " Max.   :2.000   Max.   :0.05130   Max.   :1223475   Max.   :276.3200  \n",
       "      Back           BoCreditScor   CoBoCreditScor       PMI         \n",
       " Min.   :  0.0018   Min.   :1.000   Min.   :1.000   Min.   :0.00000  \n",
       " 1st Qu.:  0.2454   1st Qu.:4.000   1st Qu.:5.000   1st Qu.:0.00000  \n",
       " Median :  0.3165   Median :5.000   Median :5.000   Median :0.00000  \n",
       " Mean   :  0.3183   Mean   :4.354   Mean   :6.462   Mean   :0.04408  \n",
       " 3rd Qu.:  0.3825   3rd Qu.:5.000   3rd Qu.:9.000   3rd Qu.:0.00000  \n",
       " Max.   :276.4300   Max.   :9.000   Max.   :9.000   Max.   :0.50000  \n",
       "      Self       PropType            ArmIndex     ArmMarg     \n",
       " Min.   :1.0   Length:55990       Min.   :99   Min.   :99999  \n",
       " 1st Qu.:2.0   Class :character   1st Qu.:99   1st Qu.:99999  \n",
       " Median :2.0   Mode  :character   Median :99   Median :99999  \n",
       " Mean   :1.9                      Mean   :99   Mean   :99999  \n",
       " 3rd Qu.:2.0                      3rd Qu.:99   3rd Qu.:99999  \n",
       " Max.   :2.0                      Max.   :99   Max.   :99999  \n",
       "   PrepayP              BoEth           Race2           Race3       Race4  \n",
       " Length:55990       Min.   :1.000   Min.   :1.000   Min.   :2   Min.   :4  \n",
       " Class :character   1st Qu.:2.000   1st Qu.:6.000   1st Qu.:6   1st Qu.:6  \n",
       " Mode  :character   Median :2.000   Median :6.000   Median :6   Median :6  \n",
       "                    Mean   :2.044   Mean   :5.992   Mean   :6   Mean   :6  \n",
       "                    3rd Qu.:2.000   3rd Qu.:6.000   3rd Qu.:6   3rd Qu.:6  \n",
       "                    Max.   :3.000   Max.   :6.000   Max.   :6   Max.   :6  \n",
       "     Race5       CoEth          Corace2         Corace3         Corace4     \n",
       " Min.   :5   Min.   :1.000   Min.   :1.000   Min.   :5.000   Min.   :6.000  \n",
       " 1st Qu.:6   1st Qu.:2.000   1st Qu.:6.000   1st Qu.:6.000   1st Qu.:6.000  \n",
       " Median :6   Median :2.000   Median :6.000   Median :6.000   Median :6.000  \n",
       " Mean   :6   Mean   :3.351   Mean   :6.879   Mean   :6.881   Mean   :6.881  \n",
       " 3rd Qu.:6   3rd Qu.:5.000   3rd Qu.:8.000   3rd Qu.:8.000   3rd Qu.:8.000  \n",
       " Max.   :6   Max.   :5.000   Max.   :8.000   Max.   :8.000   Max.   :8.000  \n",
       "    Corace5          HOEPA     LienStatus  SpcHsgGoals    FedFinStbltyPlan\n",
       " Min.   :6.000   Min.   :2   Min.   :1    Min.   :1.000   Min.   :2       \n",
       " 1st Qu.:6.000   1st Qu.:2   1st Qu.:1    1st Qu.:2.000   1st Qu.:2       \n",
       " Median :6.000   Median :2   Median :1    Median :2.000   Median :2       \n",
       " Mean   :6.881   Mean   :2   Mean   :1    Mean   :1.849   Mean   :2       \n",
       " 3rd Qu.:8.000   3rd Qu.:2   3rd Qu.:1    3rd Qu.:2.000   3rd Qu.:2       \n",
       " Max.   :8.000   Max.   :2   Max.   :1    Max.   :2.000   Max.   :2       \n",
       "     AcqTyp          GSEREO \n",
       " Min.   :1.000   Min.   :2  \n",
       " 1st Qu.:1.000   1st Qu.:2  \n",
       " Median :1.000   Median :2  \n",
       " Mean   :1.482   Mean   :2  \n",
       " 3rd Qu.:1.000   3rd Qu.:2  \n",
       " Max.   :4.000   Max.   :2  "
      ]
     },
     "metadata": {
      "tags": []
     },
     "output_type": "display_data"
    }
   ],
   "source": [
    "summary(data)"
   ]
  },
  {
   "cell_type": "code",
   "execution_count": 7,
   "metadata": {
    "id": "g9qO9PLlidw2"
   },
   "outputs": [],
   "source": [
    "Income = data$Income"
   ]
  },
  {
   "cell_type": "code",
   "execution_count": 8,
   "metadata": {
    "colab": {
     "base_uri": "https://localhost:8080/",
     "height": 474
    },
    "id": "4_KYriZkh2n-",
    "outputId": "462d4bba-6ab9-4271-9a08-7f318b1602c9"
   },
   "outputs": [
    {
     "name": "stdout",
     "output_type": "stream",
     "text": [
      "\n",
      "  The decimal point is 5 digit(s) to the right of the |\n",
      "\n",
      "   0 | 00011111111111111111111111111111111111111122222222222222222222222222+50747\n",
      "   2 | 00000000000000000000000000000000000000000000000000000000000000000000+4532\n",
      "   4 | 00000000000000000000000000000000000000000000011111111111111111111111+308\n",
      "   6 | 00000000011122222333333334444444555566667777778888999999000122334444\n",
      "   8 | 000000113333344555666677900111222256678\n",
      "  10 | 013357823346778\n",
      "  12 | 0035799\n",
      "  14 | 345801\n",
      "  16 | 3828\n",
      "  18 | 7\n",
      "  20 | 6022\n",
      "  22 | 7\n",
      "  24 | \n",
      "  26 | 7\n",
      "  28 | 58\n",
      "  30 | \n",
      "  32 | 9\n",
      "  34 | \n",
      "  36 | 9\n",
      "  38 | 5\n",
      "  40 | \n",
      "  42 | 1\n",
      "\n"
     ]
    }
   ],
   "source": [
    "stem(Income)"
   ]
  },
  {
   "cell_type": "code",
   "execution_count": 9,
   "metadata": {
    "colab": {
     "base_uri": "https://localhost:8080/",
     "height": 351
    },
    "id": "UuP94Rv-iGpP",
    "outputId": "c0788327-b86d-4ac1-dea9-64524fe7899b"
   },
   "outputs": [
    {
     "name": "stdout",
     "output_type": "stream",
     "text": [
      "\n",
      "  The decimal point is at the |\n",
      "\n",
      "   8 | 134\n",
      "   8 | 6\n",
      "   9 | 12222334444444\n",
      "   9 | 55555555555666666666666666666666666677777777777777777777777777777777+182\n",
      "  10 | 00000000000000000000000000000000000000000000000000000000000000000000+2410\n",
      "  10 | 55555555555555555555555555555555555555555555555555555555555555555555+9443\n",
      "  11 | 00000000000000000000000000000000000000000000000000000000000000000000+16531\n",
      "  11 | 55555555555555555555555555555555555555555555555555555555555555555555+17274\n",
      "  12 | 00000000000000000000000000000000000000000000000000000000000000000000+7528\n",
      "  12 | 55555555555555555555555555555555555555555555555555555555555555555555+1592\n",
      "  13 | 00000000000000000000000000000000000000000000000000000000000000000000+264\n",
      "  13 | 55555555555555555666666666666666666666677777777777777777778888888889\n",
      "  14 | 0000001111122222233444\n",
      "  14 | 56666899\n",
      "  15 | 0123\n",
      "\n"
     ]
    }
   ],
   "source": [
    "stem(log(Income))"
   ]
  },
  {
   "cell_type": "code",
   "execution_count": 10,
   "metadata": {
    "colab": {
     "base_uri": "https://localhost:8080/",
     "height": 437
    },
    "id": "RsLxmQ9UiyZF",
    "outputId": "a0db09cb-3148-4e2c-9e5b-13c94643ee42"
   },
   "outputs": [
    {
     "data": {
      "image/png": "[encoded data removed]",
      "text/plain": [
       "Plot with title “Histogram of Income”"
      ]
     },
     "metadata": {
      "image/png": {
       "height": 420,
       "width": 420
      },
      "tags": []
     },
     "output_type": "display_data"
    }
   ],
   "source": [
    "hist(Income, col=\"#333333\", border=\"white\", breaks=25) # play around with these parameters"
   ]
  },
  {
   "cell_type": "code",
   "execution_count": 44,
   "metadata": {
    "id": "IXa_6oNwjKoV"
   },
   "outputs": [],
   "source": [
    "# Calculates the distribution and plots a pie chart\n",
    "plot_pie_chart = function(field, x_axis = \"Value\", y_axis = \"Count\", title = \"Distribution\")\n",
    "{\n",
    "    unique_values = unique(field)\n",
    "    print(unique_values)\n",
    "    freq_table = as.data.frame(table(field))\n",
    "    pie(freq_table[,c('Freq')], unique_values, xlab = x_axis, ylab = y_axis, main = title)\n",
    "}"
   ]
  },
  {
   "cell_type": "code",
   "execution_count": 12,
   "metadata": {
    "colab": {
     "base_uri": "https://localhost:8080/",
     "height": 490
    },
    "id": "mIFOUgS-i39o",
    "outputId": "24d96685-1775-4f95-937c-f1ccb73e9037"
   },
   "outputs": [
    {
     "name": "stdout",
     "output_type": "stream",
     "text": [
      " [1] \"Atlanta\"       \"Boston\"        \"Chicago\"       \"Cincinnati\"   \n",
      " [5] \"Dallas\"        \"Des Moines\"    \"Indianapolis\"  \"New York\"     \n",
      " [9] \"Pittsburgh\"    \"San Francisco\" \"Topeka\"       \n"
     ]
    },
    {
     "data": {
      "image/png": "[encoded data removed]",
      "text/plain": [
       "Plot with title “Distribution”"
      ]
     },
     "metadata": {
      "image/png": {
       "height": 420,
       "width": 420
      },
      "tags": []
     },
     "output_type": "display_data"
    }
   ],
   "source": [
    "plot_pie_chart(data$Bank)"
   ]
  },
  {
   "cell_type": "code",
   "execution_count": 13,
   "metadata": {
    "id": "z1E2r8IWjHE8"
   },
   "outputs": [],
   "source": [
    "# Calculates the distribution and plots a bar chart\n",
    "plot_bar_chart = function(field, x_axis = \"Value\", y_axis = \"Count\", title = \"Distribution\")\n",
    "{\n",
    "    unique_values = unique(field)\n",
    "    freq_table = as.data.frame(table(field))\n",
    "    barplot(freq_table[,c('Freq')], names.arg = unique_values,\n",
    "            xlab = x_axis, ylab = y_axis, main = title)\n",
    "}"
   ]
  },
  {
   "cell_type": "code",
   "execution_count": 14,
   "metadata": {
    "colab": {
     "base_uri": "https://localhost:8080/",
     "height": 437
    },
    "id": "PXBXSz5SjQR9",
    "outputId": "615d5cbc-157b-4003-acaf-c2d7278e9906"
   },
   "outputs": [
    {
     "data": {
      "image/png": "[encoded data removed]",
      "text/plain": [
       "Plot with title “Number of units - Distribution”"
      ]
     },
     "metadata": {
      "image/png": {
       "height": 420,
       "width": 420
      },
      "tags": []
     },
     "output_type": "display_data"
    }
   ],
   "source": [
    "plot_bar_chart(data[,c('NumUnits')], \"Number of units\", \"Count\", \"Number of units - Distribution\")"
   ]
  },
  {
   "cell_type": "code",
   "execution_count": 15,
   "metadata": {
    "id": "xMwfpQI0jXBz"
   },
   "outputs": [],
   "source": [
    "loanAmount = data$Amount"
   ]
  },
  {
   "cell_type": "code",
   "execution_count": null,
   "metadata": {
    "id": "qahzQ8SXm2cs"
   },
   "outputs": [],
   "source": [
    "loanAmount"
   ]
  },
  {
   "cell_type": "code",
   "execution_count": 19,
   "metadata": {
    "colab": {
     "base_uri": "https://localhost:8080/",
     "height": 437
    },
    "id": "aCCGHZ8um4QR",
    "outputId": "e3ac96a7-75bb-4b21-a613-53835e7897dd"
   },
   "outputs": [
    {
     "data": {
      "image/png": "[encoded data removed]",
      "text/plain": [
       "plot without title"
      ]
     },
     "metadata": {
      "image/png": {
       "height": 420,
       "width": 420
      },
      "tags": []
     },
     "output_type": "display_data"
    }
   ],
   "source": [
    "plot(Income, loanAmount)\n",
    "# lines(Income, loanAmount, type=\"l\")"
   ]
  },
  {
   "cell_type": "markdown",
   "metadata": {
    "id": "Q-MmiFBPnEst"
   },
   "source": [
    "Those with lower income have a greater tendency to take loans, though there are rare cases of people with higher income taking loans too."
   ]
  },
  {
   "cell_type": "markdown",
   "metadata": {
    "id": "Zh1SS6gIxuNH"
   },
   "source": [
    "(Is there something wrong with this? Is it because the number of records with higher income itself is less)"
   ]
  },
  {
   "cell_type": "code",
   "execution_count": 20,
   "metadata": {
    "colab": {
     "base_uri": "https://localhost:8080/",
     "height": 437
    },
    "id": "VD1CLWH0nBBs",
    "outputId": "f912f8c2-a399-4aa1-eefe-c3b98c40c0c9"
   },
   "outputs": [
    {
     "data": {
      "image/png": "[encoded data removed]",
      "text/plain": [
       "plot without title"
      ]
     },
     "metadata": {
      "image/png": {
       "height": 420,
       "width": 420
      },
      "tags": []
     },
     "output_type": "display_data"
    }
   ],
   "source": [
    "creditScore = data$BoCreditScor\n",
    "race = data$Race2\n",
    "plot(race, loanAmount)\n",
    "# lines(race, loanAmount, type=\"l\")"
   ]
  },
  {
   "cell_type": "markdown",
   "metadata": {
    "id": "xg0buA88rAmM"
   },
   "source": [
    "It seems that the Whites take loans the most."
   ]
  },
  {
   "cell_type": "code",
   "execution_count": 28,
   "metadata": {
    "colab": {
     "base_uri": "https://localhost:8080/",
     "height": 34
    },
    "id": "p0QqaB0Ysf1r",
    "outputId": "da8c979d-4d50-48d1-ef75-f5f2bb33e645"
   },
   "outputs": [
    {
     "data": {
      "text/html": [
       "38402"
      ],
      "text/latex": [
       "38402"
      ],
      "text/markdown": [
       "38402"
      ],
      "text/plain": [
       "[1] 38402"
      ]
     },
     "metadata": {
      "tags": []
     },
     "output_type": "display_data"
    }
   ],
   "source": [
    "males = sum(data$BoGender == 1)\n",
    "males"
   ]
  },
  {
   "cell_type": "code",
   "execution_count": 29,
   "metadata": {
    "colab": {
     "base_uri": "https://localhost:8080/",
     "height": 34
    },
    "id": "5FZlsvoMs-yR",
    "outputId": "96c55c53-1bbe-4f19-a41e-9eb17b3e4b51"
   },
   "outputs": [
    {
     "data": {
      "text/html": [
       "14653"
      ],
      "text/latex": [
       "14653"
      ],
      "text/markdown": [
       "14653"
      ],
      "text/plain": [
       "[1] 14653"
      ]
     },
     "metadata": {
      "tags": []
     },
     "output_type": "display_data"
    }
   ],
   "source": [
    "females = sum(data$BoGender == 2)\n",
    "females"
   ]
  },
  {
   "cell_type": "code",
   "execution_count": 31,
   "metadata": {
    "colab": {
     "base_uri": "https://localhost:8080/",
     "height": 34
    },
    "id": "GuMTWNBGtCXE",
    "outputId": "d8a73b9b-9b48-4b36-bb5d-314cfc7644b9"
   },
   "outputs": [
    {
     "data": {
      "text/html": [
       "2935"
      ],
      "text/latex": [
       "2935"
      ],
      "text/markdown": [
       "2935"
      ],
      "text/plain": [
       "[1] 2935"
      ]
     },
     "metadata": {
      "tags": []
     },
     "output_type": "display_data"
    }
   ],
   "source": [
    "notKnown = sum(data$BoGender == 3)\n",
    "notKnown"
   ]
  },
  {
   "cell_type": "code",
   "execution_count": 32,
   "metadata": {
    "colab": {
     "base_uri": "https://localhost:8080/",
     "height": 34
    },
    "id": "6spmHfzNtRMJ",
    "outputId": "25c7f0cc-21ad-422b-fff8-a35e223a6050"
   },
   "outputs": [
    {
     "data": {
      "text/html": [
       "55990"
      ],
      "text/latex": [
       "55990"
      ],
      "text/markdown": [
       "55990"
      ],
      "text/plain": [
       "[1] 55990"
      ]
     },
     "metadata": {
      "tags": []
     },
     "output_type": "display_data"
    }
   ],
   "source": [
    "males + females + notKnown"
   ]
  },
  {
   "cell_type": "markdown",
   "metadata": {
    "id": "1RP-OwputQYS"
   },
   "source": [
    "Corresponds to total number of rows in the dataset"
   ]
  },
  {
   "cell_type": "code",
   "execution_count": 67,
   "metadata": {
    "colab": {
     "base_uri": "https://localhost:8080/",
     "height": 437
    },
    "id": "I_fjALk0q7Q7",
    "outputId": "c441099f-3b0c-40d2-c7ec-ad79952d40e3"
   },
   "outputs": [
    {
     "data": {
      "image/png": "[encoded data removed]",
      "text/plain": [
       "plot without title"
      ]
     },
     "metadata": {
      "image/png": {
       "height": 420,
       "width": 420
      },
      "tags": []
     },
     "output_type": "display_data"
    }
   ],
   "source": [
    "# Create the data for the chart\n",
    "X <- c(\"Male\", \"Female\")\n",
    "Y <- c(males, females)\n",
    "\n",
    "# Plot the bar chart \n",
    "barplot(Y,names.arg=X,xlab=\"Gender\",ylab=\"Loans\",col=\"green\")"
   ]
  },
  {
   "cell_type": "markdown",
   "metadata": {
    "id": "oA_keZNvvFRx"
   },
   "source": [
    "### Comparison of the loan amount taken by a male and female"
   ]
  },
  {
   "cell_type": "markdown",
   "metadata": {
    "id": "XfbIgD0wvLGU"
   },
   "source": [
    "Male:"
   ]
  },
  {
   "cell_type": "code",
   "execution_count": 37,
   "metadata": {
    "id": "VUhebUUrowkv"
   },
   "outputs": [],
   "source": [
    "malesDataset = data[data$BoGender==1,]"
   ]
  },
  {
   "cell_type": "code",
   "execution_count": null,
   "metadata": {
    "id": "2MYgl2a6t2iV"
   },
   "outputs": [],
   "source": [
    "malesDataset"
   ]
  },
  {
   "cell_type": "code",
   "execution_count": 39,
   "metadata": {
    "colab": {
     "base_uri": "https://localhost:8080/",
     "height": 34
    },
    "id": "Iru_8lkEuxcv",
    "outputId": "6d29c23d-5f00-44ed-c0db-42d67a3ac863"
   },
   "outputs": [
    {
     "data": {
      "text/html": [
       "233520.016092912"
      ],
      "text/latex": [
       "233520.016092912"
      ],
      "text/markdown": [
       "233520.016092912"
      ],
      "text/plain": [
       "[1] 233520"
      ]
     },
     "metadata": {
      "tags": []
     },
     "output_type": "display_data"
    }
   ],
   "source": [
    "mean(malesDataset$Amount)"
   ]
  },
  {
   "cell_type": "markdown",
   "metadata": {
    "id": "XPj7_b3lvMM2"
   },
   "source": [
    "Female:"
   ]
  },
  {
   "cell_type": "code",
   "execution_count": 41,
   "metadata": {
    "colab": {
     "base_uri": "https://localhost:8080/",
     "height": 34
    },
    "id": "N1VHvqqJu29Q",
    "outputId": "853dc3ae-b2e2-4638-88cb-315bafcf45f7"
   },
   "outputs": [
    {
     "data": {
      "text/html": [
       "208404.742783048"
      ],
      "text/latex": [
       "208404.742783048"
      ],
      "text/markdown": [
       "208404.742783048"
      ],
      "text/plain": [
       "[1] 208404.7"
      ]
     },
     "metadata": {
      "tags": []
     },
     "output_type": "display_data"
    }
   ],
   "source": [
    "mean((data[data$BoGender==2,])$Amount)"
   ]
  },
  {
   "cell_type": "markdown",
   "metadata": {
    "id": "g1QNTziCvO4T"
   },
   "source": [
    "### Comparison of loan amount taken by different races"
   ]
  },
  {
   "cell_type": "markdown",
   "metadata": {
    "id": "kpk_BSXbvcTS"
   },
   "source": [
    "American Indian:"
   ]
  },
  {
   "cell_type": "code",
   "execution_count": 44,
   "metadata": {
    "id": "Wec2rquPu_hi"
   },
   "outputs": [],
   "source": [
    "americanIndian = mean((data[data$Race2==1,])$Amount)\n",
    "asian = mean((data[data$Race2==2,])$Amount)\n",
    "black = mean((data[data$Race2==3,])$Amount)\n",
    "nativeHawaiin = mean((data[data$Race2==4,])$Amount)\n",
    "white = mean((data[data$Race2==5,])$Amount)"
   ]
  },
  {
   "cell_type": "code",
   "execution_count": 48,
   "metadata": {
    "colab": {
     "base_uri": "https://localhost:8080/",
     "height": 437
    },
    "id": "vP6gofRzvhk1",
    "outputId": "6e8730e6-22e7-4296-b6f8-449b46384e4f"
   },
   "outputs": [
    {
     "data": {
      "image/png": "[encoded data removed]",
      "text/plain": [
       "plot without title"
      ]
     },
     "metadata": {
      "image/png": {
       "height": 420,
       "width": 420
      },
      "tags": []
     },
     "output_type": "display_data"
    }
   ],
   "source": [
    "# Create the data for the chart\n",
    "X <- c(\"American Indian\", \"Asian\", \"Black\", \"Native Hawaiin\", \"White\")\n",
    "Y <- c(americanIndian, asian, black, nativeHawaiin, white)\n",
    "\n",
    "# Plot the bar chart \n",
    "barplot(Y,names.arg=X,xlab=\"Race\",ylab=\"Loan Amount\",col=\"violet\")"
   ]
  },
  {
   "cell_type": "markdown",
   "metadata": {
    "id": "5cvNY8vdxFeU"
   },
   "source": [
    "### Comparison of loan amount taken by different races"
   ]
  },
  {
   "cell_type": "code",
   "execution_count": 65,
   "metadata": {
    "colab": {
     "base_uri": "https://localhost:8080/",
     "height": 437
    },
    "id": "aUt-drBZwDem",
    "outputId": "cfa34a31-db53-4d96-a252-57b81d189e88"
   },
   "outputs": [
    {
     "data": {
      "image/png": "[encoded data removed]",
      "text/plain": [
       "plot without title"
      ]
     },
     "metadata": {
      "image/png": {
       "height": 420,
       "width": 420
      },
      "tags": []
     },
     "output_type": "display_data"
    }
   ],
   "source": [
    "age20to30 = sum(data$BoAge>=20 & data$BoAge<30)\n",
    "age30to40 = sum(data$BoAge>=30 & data$BoAge<40)\n",
    "age40to50 = sum(data$BoAge>=40 & data$BoAge<50)\n",
    "age50to60 = sum(data$BoAge>=50 & data$BoAge<60)\n",
    "age60to70 = sum(data$BoAge>=60 & data$BoAge<70)\n",
    "age70to80 = sum(data$BoAge>=70 & data$BoAge<80)\n",
    "age80to90 = sum(data$BoAge>=80 & data$BoAge<90)\n",
    "\n",
    "ys <- c(age20to30, age30to40, age40to50, age50to60, age60to70, age70to80, age80to90)\n",
    "xs <- c(\"20 to 30\",\"30 to 40\",\"40 to 50\",\"50 to 60\",\"60 to 70\",\"70 to 80\",\"80 to 90\")\n",
    "\n",
    "barplot(ys,names.arg=xs,xlab=\"Age\",ylab=\"Loans\",col=\"purple\")"
   ]
  },
  {
   "cell_type": "markdown",
   "metadata": {
    "id": "uuBUF-v70UWI"
   },
   "source": [
    "Maximum loans are taken by people in the age group of 30 to 40 as against the age group 80 to 90 which is as per what's generally expected."
   ]
  },
  {
   "cell_type": "code",
   "execution_count": null,
   "metadata": {
    "id": "0zVFye7HzSeM"
   },
   "outputs": [],
   "source": []
  },
  {
   "cell_type": "markdown",
   "metadata": {
    "id": "k-bqp37V11o6"
   },
   "source": [
    "### Average Interest rates for every race"
   ]
  },
  {
   "cell_type": "code",
   "execution_count": 75,
   "metadata": {
    "colab": {
     "base_uri": "https://localhost:8080/",
     "height": 101
    },
    "id": "CUCFKdHq14Da",
    "outputId": "ff77430a-06c7-4e42-d82e-487dcc5ae561"
   },
   "outputs": [
    {
     "data": {
      "text/html": [
       "'0.040224 : American Indian'"
      ],
      "text/latex": [
       "'0.040224 : American Indian'"
      ],
      "text/markdown": [
       "'0.040224 : American Indian'"
      ],
      "text/plain": [
       "[1] \"0.040224 : American Indian\""
      ]
     },
     "metadata": {
      "tags": []
     },
     "output_type": "display_data"
    },
    {
     "data": {
      "text/html": [
       "'0.040168 : Asian'"
      ],
      "text/latex": [
       "'0.040168 : Asian'"
      ],
      "text/markdown": [
       "'0.040168 : Asian'"
      ],
      "text/plain": [
       "[1] \"0.040168 : Asian\""
      ]
     },
     "metadata": {
      "tags": []
     },
     "output_type": "display_data"
    },
    {
     "data": {
      "text/html": [
       "'0.039651 : Black'"
      ],
      "text/latex": [
       "'0.039651 : Black'"
      ],
      "text/markdown": [
       "'0.039651 : Black'"
      ],
      "text/plain": [
       "[1] \"0.039651 : Black\""
      ]
     },
     "metadata": {
      "tags": []
     },
     "output_type": "display_data"
    },
    {
     "data": {
      "text/html": [
       "'0.038614 : Native Hawaiin'"
      ],
      "text/latex": [
       "'0.038614 : Native Hawaiin'"
      ],
      "text/markdown": [
       "'0.038614 : Native Hawaiin'"
      ],
      "text/plain": [
       "[1] \"0.038614 : Native Hawaiin\""
      ]
     },
     "metadata": {
      "tags": []
     },
     "output_type": "display_data"
    },
    {
     "data": {
      "text/html": [
       "'0.039554 : White'"
      ],
      "text/latex": [
       "'0.039554 : White'"
      ],
      "text/markdown": [
       "'0.039554 : White'"
      ],
      "text/plain": [
       "[1] \"0.039554 : White\""
      ]
     },
     "metadata": {
      "tags": []
     },
     "output_type": "display_data"
    }
   ],
   "source": [
    "americanIndian = mean((data[data$BoRace==1,])$Rate)\n",
    "asian = mean((data[data$BoRace==2,])$Rate)\n",
    "black = mean((data[data$BoRace==3,])$Rate)\n",
    "nativeHawaiin = mean((data[data$BoRace==4,])$Rate)\n",
    "white = mean((data[data$BoRace==5,])$Rate)\n",
    "\n",
    "paste(round(americanIndian, digits = 6), \": American Indian\")\n",
    "paste(round(asian, digits = 6), \": Asian\")\n",
    "paste(round(black, digits = 6), \": Black\")\n",
    "paste(round(nativeHawaiin, digits = 6), \": Native Hawaiin\")\n",
    "paste(round(white, digits = 6), \": White\")\n",
    "\n",
    "# Not a correct way to represent since even slight changes in interest rates are actually great but not represented on the bar plot\n",
    "# On the other hand, not starting Y axis from 0 is a wrong visualisation\n",
    "# X <- c(\"American Indian\", \"Asian\", \"Black\", \"Native Hawaiin\", \"White\")\n",
    "# Y <- c(americanIndian, asian, black, nativeHawaiin, white)\n",
    "\n",
    "# barplot(Y,names.arg=X,xlab=\"Race\",ylab=\"Interest Rate\",col=\"orange\")"
   ]
  },
  {
   "cell_type": "code",
   "execution_count": null,
   "metadata": {},
   "outputs": [],
   "source": []
  },
  {
   "cell_type": "code",
   "execution_count": 3,
   "metadata": {
    "id": "PNoxp7NR2OoS"
   },
   "outputs": [
    {
     "data": {
      "text/html": [
       "<style>\n",
       ".list-inline {list-style: none; margin:0; padding: 0}\n",
       ".list-inline>li {display: inline-block}\n",
       ".list-inline>li:not(:last-child)::after {content: \"\\00b7\"; padding: 0 .5ex}\n",
       "</style>\n",
       "<ol class=list-inline><li>15</li><li>10</li><li>439</li><li>99</li><li>95</li><li>25</li><li>13</li><li>91</li><li>133</li><li>125</li><li>79</li><li>215</li><li>137</li><li>113</li><li>59</li><li>71</li><li>29</li><li>3</li><li>103</li><li>5</li><li>73</li><li>81</li><li>157</li><li>23</li><li>610</li><li>89</li><li>61</li><li>9</li><li>19</li><li>233</li><li>149</li><li>31</li><li>57</li><li>153</li><li>1</li><li>83</li><li>69</li><li>101</li><li>67</li><li>183</li><li>173</li><li>37</li><li>105</li><li>163</li><li>127</li><li>510</li><li>43</li><li>35</li><li>51</li><li>201</li><li>49</li><li>53</li><li>27</li><li>33</li><li>135</li><li>185</li><li>109</li><li>117</li><li>165</li><li>107</li><li>45</li><li>55</li><li>17</li><li>39</li><li>93</li><li>213</li><li>47</li><li>63</li><li>179</li><li>650</li><li>21</li><li>151</li><li>111</li><li>41</li><li>97</li><li>119</li><li>85</li><li>199</li><li>87</li><li>197</li><li>143</li><li>141</li><li>397</li><li>453</li><li>177</li><li>65</li><li>155</li><li>245</li><li>77</li><li>219</li><li>209</li><li>11</li><li>7</li><li>167</li><li>171</li><li>123</li><li>550</li><li>465</li><li>115</li><li>810</li><li>700</li><li>129</li><li>259</li><li>121</li><li>147</li><li>735</li><li>131</li><li>367</li><li>423</li><li>189</li><li>381</li><li>122</li><li>451</li><li>227</li><li>331</li><li>800</li><li>339</li><li>75</li><li>145</li><li>207</li><li>491</li><li>86</li><li>497</li><li>90</li><li>191</li><li>14</li><li>187</li><li>161</li><li>710</li><li>485</li><li>139</li><li>361</li><li>740</li><li>217</li><li>830</li><li>221</li><li>223</li><li>175</li><li>78</li><li>195</li><li>203</li><li>159</li><li>169</li><li>760</li><li>181</li><li>680</li><li>309</li><li>295</li><li>205</li><li>265</li><li>211</li><li>239</li><li>540</li><li>193</li><li>237</li><li>670</li><li>235</li><li>303</li><li>305</li><li>590</li><li>329</li><li>441</li><li>257</li><li>317</li><li>231</li><li>251</li><li>335</li><li>363</li><li>415</li><li>299</li><li>373</li><li>473</li><li>359</li><li>479</li><li>467</li><li>505</li><li>685</li><li>333</li><li>375</li><li>287</li><li>355</li><li>325</li><li>241</li><li>493</li><li>229</li><li>225</li><li>840</li><li>600</li><li>28</li><li>313</li><li>20</li><li>770</li><li>630</li><li>683</li></ol>\n"
      ],
      "text/latex": [
       "\\begin{enumerate*}\n",
       "\\item 15\n",
       "\\item 10\n",
       "\\item 439\n",
       "\\item 99\n",
       "\\item 95\n",
       "\\item 25\n",
       "\\item 13\n",
       "\\item 91\n",
       "\\item 133\n",
       "\\item 125\n",
       "\\item 79\n",
       "\\item 215\n",
       "\\item 137\n",
       "\\item 113\n",
       "\\item 59\n",
       "\\item 71\n",
       "\\item 29\n",
       "\\item 3\n",
       "\\item 103\n",
       "\\item 5\n",
       "\\item 73\n",
       "\\item 81\n",
       "\\item 157\n",
       "\\item 23\n",
       "\\item 610\n",
       "\\item 89\n",
       "\\item 61\n",
       "\\item 9\n",
       "\\item 19\n",
       "\\item 233\n",
       "\\item 149\n",
       "\\item 31\n",
       "\\item 57\n",
       "\\item 153\n",
       "\\item 1\n",
       "\\item 83\n",
       "\\item 69\n",
       "\\item 101\n",
       "\\item 67\n",
       "\\item 183\n",
       "\\item 173\n",
       "\\item 37\n",
       "\\item 105\n",
       "\\item 163\n",
       "\\item 127\n",
       "\\item 510\n",
       "\\item 43\n",
       "\\item 35\n",
       "\\item 51\n",
       "\\item 201\n",
       "\\item 49\n",
       "\\item 53\n",
       "\\item 27\n",
       "\\item 33\n",
       "\\item 135\n",
       "\\item 185\n",
       "\\item 109\n",
       "\\item 117\n",
       "\\item 165\n",
       "\\item 107\n",
       "\\item 45\n",
       "\\item 55\n",
       "\\item 17\n",
       "\\item 39\n",
       "\\item 93\n",
       "\\item 213\n",
       "\\item 47\n",
       "\\item 63\n",
       "\\item 179\n",
       "\\item 650\n",
       "\\item 21\n",
       "\\item 151\n",
       "\\item 111\n",
       "\\item 41\n",
       "\\item 97\n",
       "\\item 119\n",
       "\\item 85\n",
       "\\item 199\n",
       "\\item 87\n",
       "\\item 197\n",
       "\\item 143\n",
       "\\item 141\n",
       "\\item 397\n",
       "\\item 453\n",
       "\\item 177\n",
       "\\item 65\n",
       "\\item 155\n",
       "\\item 245\n",
       "\\item 77\n",
       "\\item 219\n",
       "\\item 209\n",
       "\\item 11\n",
       "\\item 7\n",
       "\\item 167\n",
       "\\item 171\n",
       "\\item 123\n",
       "\\item 550\n",
       "\\item 465\n",
       "\\item 115\n",
       "\\item 810\n",
       "\\item 700\n",
       "\\item 129\n",
       "\\item 259\n",
       "\\item 121\n",
       "\\item 147\n",
       "\\item 735\n",
       "\\item 131\n",
       "\\item 367\n",
       "\\item 423\n",
       "\\item 189\n",
       "\\item 381\n",
       "\\item 122\n",
       "\\item 451\n",
       "\\item 227\n",
       "\\item 331\n",
       "\\item 800\n",
       "\\item 339\n",
       "\\item 75\n",
       "\\item 145\n",
       "\\item 207\n",
       "\\item 491\n",
       "\\item 86\n",
       "\\item 497\n",
       "\\item 90\n",
       "\\item 191\n",
       "\\item 14\n",
       "\\item 187\n",
       "\\item 161\n",
       "\\item 710\n",
       "\\item 485\n",
       "\\item 139\n",
       "\\item 361\n",
       "\\item 740\n",
       "\\item 217\n",
       "\\item 830\n",
       "\\item 221\n",
       "\\item 223\n",
       "\\item 175\n",
       "\\item 78\n",
       "\\item 195\n",
       "\\item 203\n",
       "\\item 159\n",
       "\\item 169\n",
       "\\item 760\n",
       "\\item 181\n",
       "\\item 680\n",
       "\\item 309\n",
       "\\item 295\n",
       "\\item 205\n",
       "\\item 265\n",
       "\\item 211\n",
       "\\item 239\n",
       "\\item 540\n",
       "\\item 193\n",
       "\\item 237\n",
       "\\item 670\n",
       "\\item 235\n",
       "\\item 303\n",
       "\\item 305\n",
       "\\item 590\n",
       "\\item 329\n",
       "\\item 441\n",
       "\\item 257\n",
       "\\item 317\n",
       "\\item 231\n",
       "\\item 251\n",
       "\\item 335\n",
       "\\item 363\n",
       "\\item 415\n",
       "\\item 299\n",
       "\\item 373\n",
       "\\item 473\n",
       "\\item 359\n",
       "\\item 479\n",
       "\\item 467\n",
       "\\item 505\n",
       "\\item 685\n",
       "\\item 333\n",
       "\\item 375\n",
       "\\item 287\n",
       "\\item 355\n",
       "\\item 325\n",
       "\\item 241\n",
       "\\item 493\n",
       "\\item 229\n",
       "\\item 225\n",
       "\\item 840\n",
       "\\item 600\n",
       "\\item 28\n",
       "\\item 313\n",
       "\\item 20\n",
       "\\item 770\n",
       "\\item 630\n",
       "\\item 683\n",
       "\\end{enumerate*}\n"
      ],
      "text/markdown": [
       "1. 15\n",
       "2. 10\n",
       "3. 439\n",
       "4. 99\n",
       "5. 95\n",
       "6. 25\n",
       "7. 13\n",
       "8. 91\n",
       "9. 133\n",
       "10. 125\n",
       "11. 79\n",
       "12. 215\n",
       "13. 137\n",
       "14. 113\n",
       "15. 59\n",
       "16. 71\n",
       "17. 29\n",
       "18. 3\n",
       "19. 103\n",
       "20. 5\n",
       "21. 73\n",
       "22. 81\n",
       "23. 157\n",
       "24. 23\n",
       "25. 610\n",
       "26. 89\n",
       "27. 61\n",
       "28. 9\n",
       "29. 19\n",
       "30. 233\n",
       "31. 149\n",
       "32. 31\n",
       "33. 57\n",
       "34. 153\n",
       "35. 1\n",
       "36. 83\n",
       "37. 69\n",
       "38. 101\n",
       "39. 67\n",
       "40. 183\n",
       "41. 173\n",
       "42. 37\n",
       "43. 105\n",
       "44. 163\n",
       "45. 127\n",
       "46. 510\n",
       "47. 43\n",
       "48. 35\n",
       "49. 51\n",
       "50. 201\n",
       "51. 49\n",
       "52. 53\n",
       "53. 27\n",
       "54. 33\n",
       "55. 135\n",
       "56. 185\n",
       "57. 109\n",
       "58. 117\n",
       "59. 165\n",
       "60. 107\n",
       "61. 45\n",
       "62. 55\n",
       "63. 17\n",
       "64. 39\n",
       "65. 93\n",
       "66. 213\n",
       "67. 47\n",
       "68. 63\n",
       "69. 179\n",
       "70. 650\n",
       "71. 21\n",
       "72. 151\n",
       "73. 111\n",
       "74. 41\n",
       "75. 97\n",
       "76. 119\n",
       "77. 85\n",
       "78. 199\n",
       "79. 87\n",
       "80. 197\n",
       "81. 143\n",
       "82. 141\n",
       "83. 397\n",
       "84. 453\n",
       "85. 177\n",
       "86. 65\n",
       "87. 155\n",
       "88. 245\n",
       "89. 77\n",
       "90. 219\n",
       "91. 209\n",
       "92. 11\n",
       "93. 7\n",
       "94. 167\n",
       "95. 171\n",
       "96. 123\n",
       "97. 550\n",
       "98. 465\n",
       "99. 115\n",
       "100. 810\n",
       "101. 700\n",
       "102. 129\n",
       "103. 259\n",
       "104. 121\n",
       "105. 147\n",
       "106. 735\n",
       "107. 131\n",
       "108. 367\n",
       "109. 423\n",
       "110. 189\n",
       "111. 381\n",
       "112. 122\n",
       "113. 451\n",
       "114. 227\n",
       "115. 331\n",
       "116. 800\n",
       "117. 339\n",
       "118. 75\n",
       "119. 145\n",
       "120. 207\n",
       "121. 491\n",
       "122. 86\n",
       "123. 497\n",
       "124. 90\n",
       "125. 191\n",
       "126. 14\n",
       "127. 187\n",
       "128. 161\n",
       "129. 710\n",
       "130. 485\n",
       "131. 139\n",
       "132. 361\n",
       "133. 740\n",
       "134. 217\n",
       "135. 830\n",
       "136. 221\n",
       "137. 223\n",
       "138. 175\n",
       "139. 78\n",
       "140. 195\n",
       "141. 203\n",
       "142. 159\n",
       "143. 169\n",
       "144. 760\n",
       "145. 181\n",
       "146. 680\n",
       "147. 309\n",
       "148. 295\n",
       "149. 205\n",
       "150. 265\n",
       "151. 211\n",
       "152. 239\n",
       "153. 540\n",
       "154. 193\n",
       "155. 237\n",
       "156. 670\n",
       "157. 235\n",
       "158. 303\n",
       "159. 305\n",
       "160. 590\n",
       "161. 329\n",
       "162. 441\n",
       "163. 257\n",
       "164. 317\n",
       "165. 231\n",
       "166. 251\n",
       "167. 335\n",
       "168. 363\n",
       "169. 415\n",
       "170. 299\n",
       "171. 373\n",
       "172. 473\n",
       "173. 359\n",
       "174. 479\n",
       "175. 467\n",
       "176. 505\n",
       "177. 685\n",
       "178. 333\n",
       "179. 375\n",
       "180. 287\n",
       "181. 355\n",
       "182. 325\n",
       "183. 241\n",
       "184. 493\n",
       "185. 229\n",
       "186. 225\n",
       "187. 840\n",
       "188. 600\n",
       "189. 28\n",
       "190. 313\n",
       "191. 20\n",
       "192. 770\n",
       "193. 630\n",
       "194. 683\n",
       "\n",
       "\n"
      ],
      "text/plain": [
       "  [1]  15  10 439  99  95  25  13  91 133 125  79 215 137 113  59  71  29   3\n",
       " [19] 103   5  73  81 157  23 610  89  61   9  19 233 149  31  57 153   1  83\n",
       " [37]  69 101  67 183 173  37 105 163 127 510  43  35  51 201  49  53  27  33\n",
       " [55] 135 185 109 117 165 107  45  55  17  39  93 213  47  63 179 650  21 151\n",
       " [73] 111  41  97 119  85 199  87 197 143 141 397 453 177  65 155 245  77 219\n",
       " [91] 209  11   7 167 171 123 550 465 115 810 700 129 259 121 147 735 131 367\n",
       "[109] 423 189 381 122 451 227 331 800 339  75 145 207 491  86 497  90 191  14\n",
       "[127] 187 161 710 485 139 361 740 217 830 221 223 175  78 195 203 159 169 760\n",
       "[145] 181 680 309 295 205 265 211 239 540 193 237 670 235 303 305 590 329 441\n",
       "[163] 257 317 231 251 335 363 415 299 373 473 359 479 467 505 685 333 375 287\n",
       "[181] 355 325 241 493 229 225 840 600  28 313  20 770 630 683"
      ]
     },
     "metadata": {},
     "output_type": "display_data"
    }
   ],
   "source": [
    "unique(data$FIPSCountyCode)"
   ]
  },
  {
   "cell_type": "code",
   "execution_count": 55,
   "metadata": {},
   "outputs": [
    {
     "data": {
      "text/html": [
       "<table>\n",
       "<caption>A data.frame: 4 × 2</caption>\n",
       "<thead>\n",
       "\t<tr><th scope=col>Var1</th><th scope=col>Freq</th></tr>\n",
       "\t<tr><th scope=col>&lt;fct&gt;</th><th scope=col>&lt;int&gt;</th></tr>\n",
       "</thead>\n",
       "<tbody>\n",
       "\t<tr><td>1</td><td>55479</td></tr>\n",
       "\t<tr><td>2</td><td>  438</td></tr>\n",
       "\t<tr><td>3</td><td>   45</td></tr>\n",
       "\t<tr><td>4</td><td>   28</td></tr>\n",
       "</tbody>\n",
       "</table>\n"
      ],
      "text/latex": [
       "A data.frame: 4 × 2\n",
       "\\begin{tabular}{ll}\n",
       " Var1 & Freq\\\\\n",
       " <fct> & <int>\\\\\n",
       "\\hline\n",
       "\t 1 & 55479\\\\\n",
       "\t 2 &   438\\\\\n",
       "\t 3 &    45\\\\\n",
       "\t 4 &    28\\\\\n",
       "\\end{tabular}\n"
      ],
      "text/markdown": [
       "\n",
       "A data.frame: 4 × 2\n",
       "\n",
       "| Var1 &lt;fct&gt; | Freq &lt;int&gt; |\n",
       "|---|---|\n",
       "| 1 | 55479 |\n",
       "| 2 |   438 |\n",
       "| 3 |    45 |\n",
       "| 4 |    28 |\n",
       "\n"
      ],
      "text/plain": [
       "  Var1 Freq \n",
       "1 1    55479\n",
       "2 2      438\n",
       "3 3       45\n",
       "4 4       28"
      ]
     },
     "metadata": {},
     "output_type": "display_data"
    },
    {
     "data": {
      "image/png": "[encoded data removed]",
      "text/plain": [
       "Plot with title \"Histogram of data$NumUnits\""
      ]
     },
     "metadata": {
      "image/png": {
       "height": 420,
       "width": 420
      }
     },
     "output_type": "display_data"
    }
   ],
   "source": [
    "hist(data$NumUnits, col=\"#333333\", border=\"white\", breaks=25) # play around with these parameters\n",
    "as.data.frame(table(data$NumUnits))\n",
    "\n",
    "# Majority of the home loans have single units, would be wiser to remove instances of more than 1 units"
   ]
  },
  {
   "cell_type": "code",
   "execution_count": 43,
   "metadata": {},
   "outputs": [],
   "source": [
    "double_units = which(data$NumUnits == 2)\n",
    "for(index in double_units)\n",
    "{\n",
    "    if(data[index, c(\"Rent1\")] - data[index, c(\"Rent2\")])\n",
    "        print(\"Difference in Rent found at \", index)\n",
    "}\n",
    "\n",
    "# No difference found => Rent remains the same for all the units\n",
    "# Hence columns Rent1, Rent2, Rent3 and Rent4 is removed"
   ]
  },
  {
   "cell_type": "code",
   "execution_count": 28,
   "metadata": {},
   "outputs": [
    {
     "data": {
      "text/html": [
       "0"
      ],
      "text/latex": [
       "0"
      ],
      "text/markdown": [
       "0"
      ],
      "text/plain": [
       "[1] 0"
      ]
     },
     "metadata": {},
     "output_type": "display_data"
    },
    {
     "data": {
      "text/html": [
       "0"
      ],
      "text/latex": [
       "0"
      ],
      "text/markdown": [
       "0"
      ],
      "text/plain": [
       "[1] 0"
      ]
     },
     "metadata": {},
     "output_type": "display_data"
    },
    {
     "data": {
      "text/html": [
       "0"
      ],
      "text/latex": [
       "0"
      ],
      "text/markdown": [
       "0"
      ],
      "text/plain": [
       "[1] 0"
      ]
     },
     "metadata": {},
     "output_type": "display_data"
    },
    {
     "data": {
      "text/html": [
       "0"
      ],
      "text/latex": [
       "0"
      ],
      "text/markdown": [
       "0"
      ],
      "text/plain": [
       "[1] 0"
      ]
     },
     "metadata": {},
     "output_type": "display_data"
    }
   ],
   "source": [
    "unique(data$Rent1 - data$RentUt1)\n",
    "unique(data$Rent2 - data$RentUt2)\n",
    "unique(data$Rent3 - data$RentUt3)\n",
    "unique(data$Rent4 - data$RentUt4)\n",
    "\n",
    "# Shows no difference between Normal rent and Rent+utilities\n",
    "# Hence columns RentUt1, RentUt2, RentUt3 and RentUt4 is removed"
   ]
  },
  {
   "cell_type": "code",
   "execution_count": 32,
   "metadata": {},
   "outputs": [
    {
     "data": {
      "text/html": [
       "2"
      ],
      "text/latex": [
       "2"
      ],
      "text/markdown": [
       "2"
      ],
      "text/plain": [
       "[1] 2"
      ]
     },
     "metadata": {},
     "output_type": "display_data"
    },
    {
     "data": {
      "text/html": [
       "2"
      ],
      "text/latex": [
       "2"
      ],
      "text/markdown": [
       "2"
      ],
      "text/plain": [
       "[1] 2"
      ]
     },
     "metadata": {},
     "output_type": "display_data"
    },
    {
     "data": {
      "text/html": [
       "2"
      ],
      "text/latex": [
       "2"
      ],
      "text/markdown": [
       "2"
      ],
      "text/plain": [
       "[1] 2"
      ]
     },
     "metadata": {},
     "output_type": "display_data"
    },
    {
     "data": {
      "text/html": [
       "2"
      ],
      "text/latex": [
       "2"
      ],
      "text/markdown": [
       "2"
      ],
      "text/plain": [
       "[1] 2"
      ]
     },
     "metadata": {},
     "output_type": "display_data"
    }
   ],
   "source": [
    "unique(data$Aff1)\n",
    "unique(data$Aff2)\n",
    "unique(data$Aff3)\n",
    "unique(data$Aff4)\n",
    "\n",
    "# Affordable Category of all the units doesn't meet the housing goals implemented by HERA Section 120\n",
    "# Hence columns Aff1, Aff2, Aff3 and Aff4 is removed"
   ]
  },
  {
   "cell_type": "code",
   "execution_count": 56,
   "metadata": {},
   "outputs": [
    {
     "name": "stdout",
     "output_type": "stream",
     "text": [
      "[1] 362\n",
      "[1] 362\n",
      "[1] 362\n",
      "[1] 8\n",
      "[1] 8\n",
      "[1] 2\n"
     ]
    }
   ],
   "source": [
    "print(length(which(data$Race2 != data$Race3)))\n",
    "print(length(which(data$Race2 != data$Race4)))\n",
    "print(length(which(data$Race2 != data$Race5)))\n",
    "\n",
    "print(length(which(data$Race3 != data$Race4)))\n",
    "print(length(which(data$Race3 != data$Race5)))\n",
    "\n",
    "print(length(which(data$Race4 != data$Race5)))\n",
    "\n",
    "# very little difference between Race2, Race3 and Race5\n",
    "# clean data by taking its mode"
   ]
  },
  {
   "cell_type": "code",
   "execution_count": 57,
   "metadata": {},
   "outputs": [
    {
     "name": "stdout",
     "output_type": "stream",
     "text": [
      "[1] 0\n"
     ]
    }
   ],
   "source": [
    "print(length(which(data$MortData != data$AcquData)))\n",
    "# Mortgage and Acquisition dates are same for all instance, can merge the columns"
   ]
  },
  {
   "cell_type": "code",
   "execution_count": 60,
   "metadata": {},
   "outputs": [
    {
     "data": {
      "text/html": [
       "2"
      ],
      "text/latex": [
       "2"
      ],
      "text/markdown": [
       "2"
      ],
      "text/plain": [
       "[1] 2"
      ]
     },
     "metadata": {},
     "output_type": "display_data"
    }
   ],
   "source": [
    "unique(data$Coop)\n",
    "# There is no cooperative unit mortgage in our dataset\n",
    "# Attribute can be removed, has only one value throughout"
   ]
  },
  {
   "cell_type": "code",
   "execution_count": 66,
   "metadata": {},
   "outputs": [
    {
     "data": {
      "text/html": [
       "1"
      ],
      "text/latex": [
       "1"
      ],
      "text/markdown": [
       "1"
      ],
      "text/plain": [
       "[1] 1"
      ]
     },
     "metadata": {},
     "output_type": "display_data"
    }
   ],
   "source": [
    "unique(data$SellType)\n",
    "# Type of Acquiring Lender Institution : 1=Insured depository institution for all dataset instances\n",
    "# Can be removed"
   ]
  },
  {
   "cell_type": "code",
   "execution_count": 49,
   "metadata": {},
   "outputs": [
    {
     "name": "stdout",
     "output_type": "stream",
     "text": [
      "[1] 2 1 4\n"
     ]
    },
    {
     "data": {
      "image/png": "[encoded data removed]",
      "text/plain": [
       "Plot with title \"Distribution\""
      ]
     },
     "metadata": {
      "image/png": {
       "height": 420,
       "width": 420
      }
     },
     "output_type": "display_data"
    }
   ],
   "source": [
    "plot_pie_chart(data$Purpose)\n",
    "# 2 - refinancing\n",
    "# 1 - purchase\n",
    "# 4 - new construction"
   ]
  },
  {
   "cell_type": "code",
   "execution_count": 45,
   "metadata": {},
   "outputs": [
    {
     "name": "stdout",
     "output_type": "stream",
     "text": [
      "[1] 2 1\n"
     ]
    },
    {
     "data": {
      "image/png": "[encoded data removed]",
      "text/plain": [
       "Plot with title \"Distribution\""
      ]
     },
     "metadata": {
      "image/png": {
       "height": 420,
       "width": 420
      }
     },
     "output_type": "display_data"
    }
   ],
   "source": [
    "plot_pie_chart(data$Geog)\n",
    "# majority of the property in our dataset is in census tracts annually classified as underserved by HUD"
   ]
  },
  {
   "cell_type": "code",
   "execution_count": 59,
   "metadata": {},
   "outputs": [
    {
     "data": {
      "image/png": "[encoded data removed]",
      "text/plain": [
       "Plot with title \"Histogram of data$CurAreY\""
      ]
     },
     "metadata": {
      "image/png": {
       "height": 420,
       "width": 420
      }
     },
     "output_type": "display_data"
    }
   ],
   "source": [
    "hist(data$CurAreY, col=\"#333333\", border=\"white\", breaks=25)"
   ]
  },
  {
   "cell_type": "code",
   "execution_count": 63,
   "metadata": {},
   "outputs": [
    {
     "name": "stdout",
     "output_type": "stream",
     "text": [
      "[1] 2 1 3 0\n"
     ]
    },
    {
     "data": {
      "image/png": "[encoded data removed]",
      "text/plain": [
       "Plot with title \"Distribution\""
      ]
     },
     "metadata": {
      "image/png": {
       "height": 420,
       "width": 420
      }
     },
     "output_type": "display_data"
    }
   ],
   "source": [
    "plot_pie_chart(data$FedGuar)"
   ]
  },
  {
   "cell_type": "code",
   "execution_count": 78,
   "metadata": {},
   "outputs": [
    {
     "data": {
      "text/html": [
       "<style>\n",
       ".list-inline {list-style: none; margin:0; padding: 0}\n",
       ".list-inline>li {display: inline-block}\n",
       ".list-inline>li:not(:last-child)::after {content: \"\\00b7\"; padding: 0 .5ex}\n",
       "</style>\n",
       "<ol class=list-inline><li>9</li><li>2</li><li>1</li></ol>\n"
      ],
      "text/latex": [
       "\\begin{enumerate*}\n",
       "\\item 9\n",
       "\\item 2\n",
       "\\item 1\n",
       "\\end{enumerate*}\n"
      ],
      "text/markdown": [
       "1. 9\n",
       "2. 2\n",
       "3. 1\n",
       "\n",
       "\n"
      ],
      "text/plain": [
       "[1] 9 2 1"
      ]
     },
     "metadata": {},
     "output_type": "display_data"
    },
    {
     "data": {
      "text/html": [
       "<table>\n",
       "<caption>A data.frame: 3 × 2</caption>\n",
       "<thead>\n",
       "\t<tr><th scope=col>Var1</th><th scope=col>Freq</th></tr>\n",
       "\t<tr><th scope=col>&lt;fct&gt;</th><th scope=col>&lt;int&gt;</th></tr>\n",
       "</thead>\n",
       "<tbody>\n",
       "\t<tr><td>1</td><td>  116</td></tr>\n",
       "\t<tr><td>2</td><td>   23</td></tr>\n",
       "\t<tr><td>9</td><td>55851</td></tr>\n",
       "</tbody>\n",
       "</table>\n"
      ],
      "text/latex": [
       "A data.frame: 3 × 2\n",
       "\\begin{tabular}{ll}\n",
       " Var1 & Freq\\\\\n",
       " <fct> & <int>\\\\\n",
       "\\hline\n",
       "\t 1 &   116\\\\\n",
       "\t 2 &    23\\\\\n",
       "\t 9 & 55851\\\\\n",
       "\\end{tabular}\n"
      ],
      "text/markdown": [
       "\n",
       "A data.frame: 3 × 2\n",
       "\n",
       "| Var1 &lt;fct&gt; | Freq &lt;int&gt; |\n",
       "|---|---|\n",
       "| 1 |   116 |\n",
       "| 2 |    23 |\n",
       "| 9 | 55851 |\n",
       "\n"
      ],
      "text/plain": [
       "  Var1 Freq \n",
       "1 1      116\n",
       "2 2       23\n",
       "3 9    55851"
      ]
     },
     "metadata": {},
     "output_type": "display_data"
    }
   ],
   "source": [
    "unique(data$CICA)\n",
    "as.data.frame(table(data$CICA))\n",
    "\n",
    "# majority of the projects are not on a project funded under AHP, CIP, or CICA"
   ]
  },
  {
   "cell_type": "code",
   "execution_count": null,
   "metadata": {},
   "outputs": [],
   "source": []
  }
 ],
 "metadata": {
  "colab": {
   "authorship_tag": "ABX9TyPmDSMQ+r/HR2WVYzf/6Pc3",
   "name": "EDA.r",
   "provenance": []
  },
  "kernelspec": {
   "display_name": "R",
   "language": "R",
   "name": "ir"
  },
  "language_info": {
   "codemirror_mode": "r",
   "file_extension": ".r",
   "mimetype": "text/x-r-source",
   "name": "R",
   "pygments_lexer": "r",
   "version": "4.0.2"
  }
 },
 "nbformat": 4,
 "nbformat_minor": 1
}
